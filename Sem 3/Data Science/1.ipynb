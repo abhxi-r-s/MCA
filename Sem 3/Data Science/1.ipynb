{
 "cells": [
  {
   "cell_type": "markdown",
   "id": "a19c0e9e",
   "metadata": {},
   "source": [
    "Importing Numpy "
   ]
  },
  {
   "cell_type": "code",
   "execution_count": 1,
   "id": "1a20a6f2",
   "metadata": {},
   "outputs": [
    {
     "name": "stdout",
     "output_type": "stream",
     "text": [
      "[1 2 3 4]\n",
      "<class 'numpy.ndarray'>\n"
     ]
    }
   ],
   "source": [
    "import numpy as np\n",
    "p=np.array((1,2,3,4))\n",
    "print(p)\n",
    "print(type(p))"
   ]
  },
  {
   "cell_type": "markdown",
   "id": "55dc8e10",
   "metadata": {},
   "source": [
    "Display From 0- 89"
   ]
  },
  {
   "cell_type": "code",
   "execution_count": 4,
   "id": "a5284031",
   "metadata": {},
   "outputs": [
    {
     "name": "stdout",
     "output_type": "stream",
     "text": [
      "[ 0  1  2  3  4  5  6  7  8  9 10 11 12 13 14 15 16 17 18 19 20 21 22 23\n",
      " 24 25 26 27 28 29 30 31 32 33 34 35 36 37 38 39 40 41 42 43 44 45 46 47\n",
      " 48 49 50 51 52 53 54 55 56 57 58 59 60 61 62 63 64 65 66 67 68 69 70 71\n",
      " 72 73 74 75 76 77 78 79 80 81 82 83 84 85 86 87 88 89]\n"
     ]
    }
   ],
   "source": [
    "p=np.arange(90)\n",
    "print(p)"
   ]
  },
  {
   "cell_type": "markdown",
   "id": "316feb05",
   "metadata": {},
   "source": [
    "Even Numbers From 2 to 200"
   ]
  },
  {
   "cell_type": "code",
   "execution_count": 5,
   "id": "ce758466",
   "metadata": {},
   "outputs": [
    {
     "name": "stdout",
     "output_type": "stream",
     "text": [
      "[  2   4   6   8  10  12  14  16  18  20  22  24  26  28  30  32  34  36\n",
      "  38  40  42  44  46  48  50  52  54  56  58  60  62  64  66  68  70  72\n",
      "  74  76  78  80  82  84  86  88  90  92  94  96  98 100 102 104 106 108\n",
      " 110 112 114 116 118 120 122 124 126 128 130 132 134 136 138 140 142 144\n",
      " 146 148 150 152 154 156 158 160 162 164 166 168 170 172 174 176 178 180\n",
      " 182 184 186 188 190 192 194 196 198]\n"
     ]
    }
   ],
   "source": [
    "p=np.arange(2,200,2)\n",
    "print(p)"
   ]
  },
  {
   "cell_type": "markdown",
   "id": "21a510ae",
   "metadata": {},
   "source": [
    "Odd Number From 1 to 100"
   ]
  },
  {
   "cell_type": "code",
   "execution_count": 6,
   "id": "7fc2cb12",
   "metadata": {},
   "outputs": [
    {
     "name": "stdout",
     "output_type": "stream",
     "text": [
      "[ 1  3  5  7  9 11 13 15 17 19 21 23 25 27 29 31 33 35 37 39 41 43 45 47\n",
      " 49 51 53 55 57 59 61 63 65 67 69 71 73 75 77 79 81 83 85 87 89 91 93 95\n",
      " 97 99]\n"
     ]
    }
   ],
   "source": [
    "p=np.arange(1,100,2)\n",
    "print(p)"
   ]
  },
  {
   "cell_type": "markdown",
   "id": "48e17d81",
   "metadata": {},
   "source": [
    "Display zeroes"
   ]
  },
  {
   "cell_type": "code",
   "execution_count": 7,
   "id": "8a89af1e",
   "metadata": {},
   "outputs": [
    {
     "name": "stdout",
     "output_type": "stream",
     "text": [
      "[0. 0. 0.]\n"
     ]
    }
   ],
   "source": [
    "p=np.zeros(3)\n",
    "print(p)"
   ]
  },
  {
   "cell_type": "markdown",
   "id": "c71b64b5",
   "metadata": {},
   "source": [
    "Display Ones"
   ]
  },
  {
   "cell_type": "code",
   "execution_count": 8,
   "id": "b25034c0",
   "metadata": {},
   "outputs": [
    {
     "name": "stdout",
     "output_type": "stream",
     "text": [
      "[1. 1. 1. 1.]\n"
     ]
    }
   ],
   "source": [
    "p=np.ones(4)\n",
    "print(p)"
   ]
  },
  {
   "cell_type": "markdown",
   "id": "c13490a0",
   "metadata": {},
   "source": [
    "Matrix of zeroes"
   ]
  },
  {
   "cell_type": "code",
   "execution_count": 9,
   "id": "8a2c769a",
   "metadata": {},
   "outputs": [
    {
     "name": "stdout",
     "output_type": "stream",
     "text": [
      "[[0 0 0]\n",
      " [0 0 0]\n",
      " [0 0 0]]\n"
     ]
    }
   ],
   "source": [
    "p=np.zeros((3,3),int)\n",
    "print(p)"
   ]
  },
  {
   "cell_type": "markdown",
   "id": "c7560f38",
   "metadata": {},
   "source": [
    "To Create Matrix"
   ]
  },
  {
   "cell_type": "code",
   "execution_count": 10,
   "id": "b153c29b",
   "metadata": {},
   "outputs": [
    {
     "name": "stdout",
     "output_type": "stream",
     "text": [
      "[[ 1  2  3]\n",
      " [ 4  5  6]\n",
      " [ 7  8  9]\n",
      " [10 11 12]]\n"
     ]
    }
   ],
   "source": [
    "p=np.array([[1,2,3],[4,5,6],[7,8,9],[10,11,12]])\n",
    "print(p)"
   ]
  },
  {
   "cell_type": "markdown",
   "id": "a94e5b99",
   "metadata": {},
   "source": [
    "To Get Identity Matrix using EYE"
   ]
  },
  {
   "cell_type": "code",
   "execution_count": 11,
   "id": "79629315",
   "metadata": {},
   "outputs": [
    {
     "name": "stdout",
     "output_type": "stream",
     "text": [
      "[[1. 0. 0.]\n",
      " [0. 1. 0.]\n",
      " [0. 0. 1.]]\n"
     ]
    }
   ],
   "source": [
    "p=np.eye(3)\n",
    "print(p)"
   ]
  },
  {
   "cell_type": "markdown",
   "id": "ffa879b5",
   "metadata": {},
   "source": [
    "To get Identity Matrix using IDENTITY"
   ]
  },
  {
   "cell_type": "code",
   "execution_count": 12,
   "id": "4f44e31d",
   "metadata": {},
   "outputs": [
    {
     "name": "stdout",
     "output_type": "stream",
     "text": [
      "[[1. 0. 0. 0.]\n",
      " [0. 1. 0. 0.]\n",
      " [0. 0. 1. 0.]\n",
      " [0. 0. 0. 1.]]\n"
     ]
    }
   ],
   "source": [
    "p=np.identity(4)\n",
    "print(p)"
   ]
  }
 ],
 "metadata": {
  "kernelspec": {
   "display_name": "base",
   "language": "python",
   "name": "python3"
  },
  "language_info": {
   "codemirror_mode": {
    "name": "ipython",
    "version": 3
   },
   "file_extension": ".py",
   "mimetype": "text/x-python",
   "name": "python",
   "nbconvert_exporter": "python",
   "pygments_lexer": "ipython3",
   "version": "3.12.4"
  }
 },
 "nbformat": 4,
 "nbformat_minor": 5
}
