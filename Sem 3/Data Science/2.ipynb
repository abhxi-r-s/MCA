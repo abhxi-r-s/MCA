{
 "cells": [
  {
   "cell_type": "markdown",
   "id": "e3cd56bb",
   "metadata": {},
   "source": [
    "Import Numpy"
   ]
  },
  {
   "cell_type": "code",
   "execution_count": 1,
   "id": "b42975cb",
   "metadata": {},
   "outputs": [
    {
     "name": "stdout",
     "output_type": "stream",
     "text": [
      "[0 1 2 3 4 5 6 7]\n"
     ]
    }
   ],
   "source": [
    "import numpy as np\n",
    "a=np.arange(8)\n",
    "print(a)"
   ]
  },
  {
   "cell_type": "markdown",
   "id": "6f3b4039",
   "metadata": {},
   "source": [
    "Slice Array"
   ]
  },
  {
   "cell_type": "code",
   "execution_count": 5,
   "id": "3bfc4e28",
   "metadata": {},
   "outputs": [
    {
     "name": "stdout",
     "output_type": "stream",
     "text": [
      "[1 2 3 4]\n",
      "[2 3 4]\n",
      "[3 4 5]\n",
      "[1 2 3 4 5 6 7]\n",
      "[0 1 2 3 4]\n",
      "3\n",
      "[4 5 6]\n"
     ]
    }
   ],
   "source": [
    "print(a[1:5])\n",
    "print(a[2:5])\n",
    "print(a[3:6])\n",
    "print(a[1:])\n",
    "print(a[:5])\n",
    "print(a[3])\n",
    "print(a[-4:-1])\n"
   ]
  },
  {
   "cell_type": "markdown",
   "id": "3a12d604",
   "metadata": {},
   "source": [
    "Copy value to another variable"
   ]
  },
  {
   "cell_type": "code",
   "execution_count": 6,
   "id": "dbd5038b",
   "metadata": {},
   "outputs": [
    {
     "name": "stdout",
     "output_type": "stream",
     "text": [
      "[0 1 2 3 4 5 6 7]\n"
     ]
    }
   ],
   "source": [
    "b=a\n",
    "print(b)"
   ]
  },
  {
   "cell_type": "markdown",
   "id": "f19f15d7",
   "metadata": {},
   "source": [
    "To change an array element of Both Array"
   ]
  },
  {
   "cell_type": "code",
   "execution_count": 7,
   "id": "10ef16a8",
   "metadata": {},
   "outputs": [
    {
     "name": "stdout",
     "output_type": "stream",
     "text": [
      "[ 0  1 10  3  4  5  6  7]\n",
      "[ 0  1 10  3  4  5  6  7]\n"
     ]
    }
   ],
   "source": [
    "a[2]=10\n",
    "print(a)\n",
    "print(b)"
   ]
  },
  {
   "cell_type": "markdown",
   "id": "7642a163",
   "metadata": {},
   "source": [
    "To change only one array"
   ]
  },
  {
   "cell_type": "code",
   "execution_count": 10,
   "id": "30996df8",
   "metadata": {},
   "outputs": [
    {
     "name": "stdout",
     "output_type": "stream",
     "text": [
      "[ 0  1 10 11  4  5  6  7]\n",
      "[ 0  1 10 11  4  5  6  7]\n",
      "[ 0  1 10 11  4  5  6  7]\n"
     ]
    }
   ],
   "source": [
    "a[3]=11\n",
    "c=a.copy()\n",
    "print(c)\n",
    "print(b)\n",
    "print(a)"
   ]
  }
 ],
 "metadata": {
  "kernelspec": {
   "display_name": "base",
   "language": "python",
   "name": "python3"
  },
  "language_info": {
   "codemirror_mode": {
    "name": "ipython",
    "version": 3
   },
   "file_extension": ".py",
   "mimetype": "text/x-python",
   "name": "python",
   "nbconvert_exporter": "python",
   "pygments_lexer": "ipython3",
   "version": "3.12.4"
  }
 },
 "nbformat": 4,
 "nbformat_minor": 5
}
