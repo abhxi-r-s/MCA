{
 "cells": [
  {
   "cell_type": "markdown",
   "id": "abecf909",
   "metadata": {},
   "source": [
    "Matrix transpose and trace(Sum of daigonal elements)"
   ]
  },
  {
   "cell_type": "code",
   "execution_count": 1,
   "id": "d9d5def7",
   "metadata": {},
   "outputs": [],
   "source": [
    "import numpy as np"
   ]
  },
  {
   "cell_type": "code",
   "execution_count": 13,
   "id": "c69da950",
   "metadata": {},
   "outputs": [],
   "source": [
    "arr1= np.array([[1,2,3],[1,2,3],[1,2,3]])\n",
    "arr2= np.array([[3,2,1],[3,2,1],[3,2,1]])\n",
    "inverse=np.array([[2,1],[5,3]])"
   ]
  },
  {
   "cell_type": "code",
   "execution_count": 6,
   "id": "a19f9228",
   "metadata": {},
   "outputs": [
    {
     "name": "stdout",
     "output_type": "stream",
     "text": [
      "[[1 2 3]\n",
      " [1 2 3]\n",
      " [1 2 3]]\n",
      "[[3 2 1]\n",
      " [3 2 1]\n",
      " [3 2 1]]\n"
     ]
    }
   ],
   "source": [
    "print(arr1)\n",
    "print(arr2)"
   ]
  },
  {
   "cell_type": "code",
   "execution_count": 7,
   "id": "e97b54c8",
   "metadata": {},
   "outputs": [
    {
     "name": "stdout",
     "output_type": "stream",
     "text": [
      "Transpose of first array is :\n",
      "[[1 1 1]\n",
      " [2 2 2]\n",
      " [3 3 3]]\n"
     ]
    }
   ],
   "source": [
    "print(\"Transpose of first array is :\")\n",
    "print(np.transpose(arr1))"
   ]
  },
  {
   "cell_type": "code",
   "execution_count": 8,
   "id": "ee77e735",
   "metadata": {},
   "outputs": [
    {
     "name": "stdout",
     "output_type": "stream",
     "text": [
      "Trace of first array :\n",
      "6\n"
     ]
    }
   ],
   "source": [
    "print(\"Trace of first array :\")\n",
    "print(np.trace(arr2))"
   ]
  },
  {
   "cell_type": "code",
   "execution_count": 9,
   "id": "fa986633",
   "metadata": {},
   "outputs": [
    {
     "name": "stdout",
     "output_type": "stream",
     "text": [
      "Matrix Multiplication:\n",
      "[[18 12  6]\n",
      " [18 12  6]\n",
      " [18 12  6]]\n"
     ]
    }
   ],
   "source": [
    "print(\"Matrix Multiplication:\")\n",
    "print(np.dot(arr1,arr2))"
   ]
  },
  {
   "cell_type": "code",
   "execution_count": 14,
   "id": "8d2c2223",
   "metadata": {},
   "outputs": [
    {
     "name": "stdout",
     "output_type": "stream",
     "text": [
      "Inverse of the matrix :\n",
      "[[ 3. -1.]\n",
      " [-5.  2.]]\n"
     ]
    }
   ],
   "source": [
    "print(\"Inverse of the matrix :\")\n",
    "print(np.linalg.inv(inverse))"
   ]
  },
  {
   "cell_type": "code",
   "execution_count": 10,
   "id": "d08c888e",
   "metadata": {},
   "outputs": [
    {
     "name": "stdout",
     "output_type": "stream",
     "text": [
      "Rank of the matrix :\n",
      "1\n"
     ]
    }
   ],
   "source": [
    "print(\"Rank of the matrix :\")\n",
    "print(np.linalg.matrix_rank(arr1))"
   ]
  }
 ],
 "metadata": {
  "kernelspec": {
   "display_name": "base",
   "language": "python",
   "name": "python3"
  },
  "language_info": {
   "codemirror_mode": {
    "name": "ipython",
    "version": 3
   },
   "file_extension": ".py",
   "mimetype": "text/x-python",
   "name": "python",
   "nbconvert_exporter": "python",
   "pygments_lexer": "ipython3",
   "version": "3.12.4"
  }
 },
 "nbformat": 4,
 "nbformat_minor": 5
}
