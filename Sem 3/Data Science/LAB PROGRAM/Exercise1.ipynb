{
 "cells": [
  {
   "cell_type": "code",
   "execution_count": 15,
   "id": "4845e414",
   "metadata": {},
   "outputs": [],
   "source": [
    "import numpy as np"
   ]
  },
  {
   "cell_type": "markdown",
   "id": "e6370283",
   "metadata": {},
   "source": [
    "1.Write a NumPy program to convert Fahrenheit degree to centigrade degree. Fahrenheit\n",
    "values are stored in a NumPy array."
   ]
  },
  {
   "cell_type": "code",
   "execution_count": 5,
   "id": "3c8b16f4",
   "metadata": {},
   "outputs": [
    {
     "name": "stdout",
     "output_type": "stream",
     "text": [
      "Fahrenheit : [72 64 78 67]\n",
      "Celsius : [22.22222222 17.77777778 25.55555556 19.44444444]\n"
     ]
    }
   ],
   "source": [
    "fahrenheit=np.array([72,64,78,67])\n",
    "\n",
    "celsius=(fahrenheit-32)*5/9\n",
    "\n",
    "print(\"Fahrenheit :\", fahrenheit)\n",
    "print(\"Celsius :\", celsius)"
   ]
  },
  {
   "cell_type": "markdown",
   "id": "41c7822b",
   "metadata": {},
   "source": [
    "2.Write a NumPy program to create a random array with 1000 elements and compute the \n",
    "average, variance, standard deviation of the array elements. "
   ]
  },
  {
   "cell_type": "code",
   "execution_count": 6,
   "id": "ed81f40d",
   "metadata": {},
   "outputs": [
    {
     "name": "stdout",
     "output_type": "stream",
     "text": [
      "Average : 0.4977998931336566\n",
      "Variance : 0.08617037466698005\n",
      "Standard Deviation : 0.29354790864010605\n"
     ]
    }
   ],
   "source": [
    "random_array=np.random.random(1000)\n",
    "\n",
    "average=np.mean(random_array)\n",
    "variance=np.var(random_array)\n",
    "sd=np.std(random_array)\n",
    "\n",
    "print(\"Average :\",average)\n",
    "print(\"Variance :\",variance)\n",
    "print(\"Standard Deviation :\", sd)"
   ]
  },
  {
   "cell_type": "markdown",
   "id": "a0d83e9d",
   "metadata": {},
   "source": [
    "3. Write a NumPy program to convert angles from degrees to radians for all elements in a \n",
    "given array. "
   ]
  },
  {
   "cell_type": "code",
   "execution_count": 9,
   "id": "d299c489",
   "metadata": {},
   "outputs": [
    {
     "name": "stdout",
     "output_type": "stream",
     "text": [
      "Degrees: [ 30  45  60  90 180 270 360]\n",
      "Radians: [0.52359878 0.78539816 1.04719755 1.57079633 3.14159265 4.71238898\n",
      " 6.28318531]\n"
     ]
    }
   ],
   "source": [
    "degrees = np.array([30,45,60,90,180,270,360])\n",
    "\n",
    "radians=np.deg2rad(degrees)\n",
    "\n",
    "print(\"Degrees:\", degrees)\n",
    "print(\"Radians:\", radians)"
   ]
  },
  {
   "cell_type": "markdown",
   "id": "9770a9dd",
   "metadata": {},
   "source": [
    "4 .Write  a  NumPy  program  to  calculate  the  difference  between  neighbouring  elements, \n",
    "element-wise of a given array"
   ]
  },
  {
   "cell_type": "code",
   "execution_count": 10,
   "id": "26d1eb22",
   "metadata": {},
   "outputs": [
    {
     "name": "stdout",
     "output_type": "stream",
     "text": [
      "Array : [23 43 12 78 89]\n",
      "Difference : [ 20 -31  66  11]\n"
     ]
    }
   ],
   "source": [
    "array=np.array([23,43,12,78,89])\n",
    "\n",
    "difference=np.diff(array)\n",
    "\n",
    "print(\"Array :\",array)\n",
    "print(\"Difference :\", difference)"
   ]
  },
  {
   "cell_type": "markdown",
   "id": "286e1345",
   "metadata": {},
   "source": [
    "5.Write a NumPy program to sort a given complex array using the real part first, then the \n",
    "imaginary part."
   ]
  },
  {
   "cell_type": "code",
   "execution_count": 13,
   "id": "b9a2aaba",
   "metadata": {},
   "outputs": [
    {
     "name": "stdout",
     "output_type": "stream",
     "text": [
      "Original array: [2.+3.j 1.+4.j 2.+1.j 3.+0.j 1.+2.j]\n",
      "Sorted array: [1.+2.j 1.+4.j 2.+1.j 2.+3.j 3.+0.j]\n"
     ]
    }
   ],
   "source": [
    "array = np.array([2+3j, 1+4j, 2+1j, 3+0j, 1+2j])\n",
    "\n",
    "sorted_indices = np.lexsort((array.imag, array.real))\n",
    "sorted_array = array[sorted_indices]\n",
    "\n",
    "print(\"Original array:\", array)\n",
    "print(\"Sorted array:\", sorted_array)\n"
   ]
  },
  {
   "cell_type": "markdown",
   "id": "99ef315b",
   "metadata": {},
   "source": [
    "6.Write a NumPy program to create a 1D array with random numbers and print the values \n",
    "greater than 4\n"
   ]
  },
  {
   "cell_type": "code",
   "execution_count": 19,
   "id": "20c84aba",
   "metadata": {},
   "outputs": [
    {
     "name": "stdout",
     "output_type": "stream",
     "text": [
      "Random array: [-2.68115243  1.27555428 -6.11676897 -7.60955658  3.76961205 -2.33933864\n",
      "  1.32566317 -1.2102311  -6.62014355 -8.94676314]\n",
      "Values greater than 4: []\n"
     ]
    }
   ],
   "source": [
    "random_array = np.random.uniform(-10, 10, 10) #(low, high, size)\n",
    "\n",
    "values_greater_than_4 = random_array[random_array > 4]\n",
    "\n",
    "print(\"Random array:\", random_array)\n",
    "print(\"Values greater than 4:\", values_greater_than_4)\n"
   ]
  },
  {
   "cell_type": "markdown",
   "id": "edf95800",
   "metadata": {},
   "source": [
    "7. Write a NumPy program to create a 1D array with random numbers and search a particular \n",
    "number given by the user"
   ]
  },
  {
   "cell_type": "code",
   "execution_count": 29,
   "id": "cd5a2326",
   "metadata": {},
   "outputs": [
    {
     "name": "stdout",
     "output_type": "stream",
     "text": [
      "Random array: [23 30 17 23 22 11 23 34  7 18 29 30 39 21  4  3 43 18 14 35]\n",
      "Number 4 found at indices: [14]\n"
     ]
    }
   ],
   "source": [
    "random_array = np.random.randint(0, 51, 20)\n",
    "print(\"Random array:\", random_array)\n",
    "\n",
    "num_to_search = int(input(\"Enter the number to search: \"))\n",
    "\n",
    "indices = np.where(random_array == num_to_search)[0]\n",
    "\n",
    "if indices.size > 0:\n",
    "    print(f\"Number {num_to_search} found at indices: {indices}\")\n",
    "else:\n",
    "    print(f\"Number {num_to_search} not found in the array.\")\n"
   ]
  },
  {
   "cell_type": "markdown",
   "id": "6218d660",
   "metadata": {},
   "source": [
    "8. Write a NumPy program to save a given array to a text file and load it."
   ]
  },
  {
   "cell_type": "code",
   "execution_count": 33,
   "id": "a4c95d29",
   "metadata": {},
   "outputs": [
    {
     "name": "stdout",
     "output_type": "stream",
     "text": [
      "Original array: [1 2 3 4 5]\n",
      "Loaded array: [1 2 3 4 5]\n"
     ]
    }
   ],
   "source": [
    "array = np.array([1, 2, 3, 4, 5])\n",
    "\n",
    "np.savetxt('array.txt', array, fmt='%d')\n",
    "\n",
    "loaded_array = np.loadtxt('array.txt', dtype=int)\n",
    "\n",
    "print(\"Original array:\", array)\n",
    "print(\"Loaded array:\", loaded_array)\n"
   ]
  },
  {
   "cell_type": "markdown",
   "id": "bf0e4502",
   "metadata": {},
   "source": [
    "9.Write a NumPy program to create an array of all the even integers from 30 to 60"
   ]
  },
  {
   "cell_type": "code",
   "execution_count": 34,
   "id": "0f095d0e",
   "metadata": {},
   "outputs": [
    {
     "name": "stdout",
     "output_type": "stream",
     "text": [
      "[30 32 34 36 38 40 42 44 46 48 50 52 54 56 58 60]\n"
     ]
    }
   ],
   "source": [
    "import numpy as np\n",
    "\n",
    "even_array = np.arange(30, 61, 2)\n",
    "\n",
    "print(even_array)\n"
   ]
  },
  {
   "cell_type": "markdown",
   "id": "dbd6a5af",
   "metadata": {},
   "source": [
    "10. Write a NumPy program to compute sum of all elements ,sum of each column and sum of \n",
    "each row of a given array."
   ]
  },
  {
   "cell_type": "code",
   "execution_count": 35,
   "id": "05b7d705",
   "metadata": {},
   "outputs": [
    {
     "name": "stdout",
     "output_type": "stream",
     "text": [
      "Array:\n",
      " [[1 2 3]\n",
      " [4 5 6]\n",
      " [7 8 9]]\n",
      "Sum of all elements: 45\n",
      "Sum of each column: [12 15 18]\n",
      "Sum of each row: [ 6 15 24]\n"
     ]
    }
   ],
   "source": [
    "import numpy as np\n",
    "\n",
    "array = np.array([[1, 2, 3],\n",
    "                  [4, 5, 6],\n",
    "                  [7, 8, 9]])\n",
    "\n",
    "total_sum = np.sum(array)\n",
    "\n",
    "column_sum = np.sum(array, axis=0)\n",
    "\n",
    "\n",
    "row_sum = np.sum(array, axis=1)\n",
    "\n",
    "print(\"Array:\\n\", array)\n",
    "print(\"Sum of all elements:\", total_sum)\n",
    "print(\"Sum of each column:\", column_sum)\n",
    "print(\"Sum of each row:\", row_sum)\n"
   ]
  }
 ],
 "metadata": {
  "kernelspec": {
   "display_name": "base",
   "language": "python",
   "name": "python3"
  },
  "language_info": {
   "codemirror_mode": {
    "name": "ipython",
    "version": 3
   },
   "file_extension": ".py",
   "mimetype": "text/x-python",
   "name": "python",
   "nbconvert_exporter": "python",
   "pygments_lexer": "ipython3",
   "version": "3.12.4"
  }
 },
 "nbformat": 4,
 "nbformat_minor": 5
}
