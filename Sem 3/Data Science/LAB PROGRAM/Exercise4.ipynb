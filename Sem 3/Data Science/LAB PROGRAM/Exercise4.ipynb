{
 "cells": [
  {
   "cell_type": "markdown",
   "id": "2f8bf7d7",
   "metadata": {},
   "source": [
    "1.Write a python program to implement List-to-Series Conversion. "
   ]
  },
  {
   "cell_type": "code",
   "execution_count": 1,
   "id": "8c852216",
   "metadata": {},
   "outputs": [
    {
     "name": "stdout",
     "output_type": "stream",
     "text": [
      "0    10\n",
      "1    20\n",
      "2    30\n",
      "3    40\n",
      "4    50\n",
      "dtype: int64\n"
     ]
    }
   ],
   "source": [
    "import pandas as pd\n",
    "\n",
    "my_list = [10, 20, 30, 40, 50]\n",
    "\n",
    "my_series = pd.Series(my_list)\n",
    "\n",
    "print(my_series)\n"
   ]
  },
  {
   "cell_type": "markdown",
   "id": "a26b6d19",
   "metadata": {},
   "source": [
    "2.Write a python program to Generate the series of dates from 1st May, 2021 to 12th \n",
    "May, 2021"
   ]
  },
  {
   "cell_type": "code",
   "execution_count": 2,
   "id": "a3d661d5",
   "metadata": {},
   "outputs": [
    {
     "name": "stdout",
     "output_type": "stream",
     "text": [
      "2021-05-01\n",
      "2021-05-02\n",
      "2021-05-03\n",
      "2021-05-04\n",
      "2021-05-05\n",
      "2021-05-06\n",
      "2021-05-07\n",
      "2021-05-08\n",
      "2021-05-09\n",
      "2021-05-10\n",
      "2021-05-11\n",
      "2021-05-12\n"
     ]
    }
   ],
   "source": [
    "import pandas as pd\n",
    "\n",
    "date_series = pd.date_range(start='2021-05-01', end='2021-05-12')\n",
    "\n",
    "for date in date_series:\n",
    "    print(date.date())\n"
   ]
  },
  {
   "cell_type": "markdown",
   "id": "96ccf211",
   "metadata": {},
   "source": [
    "3.Given a dictionary, convert it into corresponding dataframe and display it. "
   ]
  },
  {
   "cell_type": "code",
   "execution_count": 3,
   "id": "04e628f5",
   "metadata": {},
   "outputs": [
    {
     "name": "stdout",
     "output_type": "stream",
     "text": [
      "      Name  Age         City\n",
      "0    Alice   25     New York\n",
      "1      Bob   30  Los Angeles\n",
      "2  Charlie   35      Chicago\n"
     ]
    }
   ],
   "source": [
    "data = {\n",
    "    'Name': ['Alice', 'Bob', 'Charlie'],\n",
    "    'Age': [25, 30, 35],\n",
    "    'City': ['New York', 'Los Angeles', 'Chicago']\n",
    "}\n",
    "\n",
    "df = pd.DataFrame(data)\n",
    "print(df)\n"
   ]
  },
  {
   "cell_type": "markdown",
   "id": "35069a5d",
   "metadata": {},
   "source": [
    "4. Given a 2D List, convert it into corresponding dataframe and display it. "
   ]
  },
  {
   "cell_type": "code",
   "execution_count": 4,
   "id": "e9a7895f",
   "metadata": {},
   "outputs": [
    {
     "name": "stdout",
     "output_type": "stream",
     "text": [
      "      Name  Age         City\n",
      "0    Alice   25     New York\n",
      "1      Bob   30  Los Angeles\n",
      "2  Charlie   35      Chicago\n"
     ]
    }
   ],
   "source": [
    "data = [\n",
    "    ['Alice', 25, 'New York'],\n",
    "    ['Bob', 30, 'Los Angeles'],\n",
    "    ['Charlie', 35, 'Chicago']\n",
    "]\n",
    "df = pd.DataFrame(data, columns=['Name', 'Age', 'City'])\n",
    "print(df)\n"
   ]
  },
  {
   "cell_type": "markdown",
   "id": "2d1f5334",
   "metadata": {},
   "source": [
    "5. Given a CSV file, read it into a dataframe and display it. "
   ]
  },
  {
   "cell_type": "code",
   "execution_count": 5,
   "id": "220a7b0b",
   "metadata": {},
   "outputs": [
    {
     "name": "stdout",
     "output_type": "stream",
     "text": [
      "    Numeric  Numeric-2 Numeric-Suffix\n",
      "0         1          1            1st\n",
      "1         2          2            2nd\n",
      "2         3          3            3rd\n",
      "3         4          4            4th\n",
      "4         5          5            5th\n",
      "5         6          6            6th\n",
      "6         7          7            7th\n",
      "7         8          8            8th\n",
      "8         9          9            9th\n",
      "9        10         10           10th\n",
      "10       11         11           11th\n",
      "11       12         12           12th\n",
      "12       13         13           13th\n",
      "13       14         14           14th\n",
      "14       15         15           15th\n",
      "15       16         16           16th\n",
      "16       17         17           17th\n",
      "17       18         18           18th\n",
      "18       19         19           19th\n",
      "19       20         20           20th\n",
      "20       21         21           21st\n",
      "21       22         22           22nd\n",
      "22       23         23           23rd\n",
      "23       24         24           24th\n",
      "24       25         25           25th\n",
      "25       26         26           26th\n",
      "26       27         27           27th\n",
      "27       28         28           28th\n",
      "28       29         29           29th\n",
      "29       30         30           30th\n",
      "30       31         31           31st\n"
     ]
    }
   ],
   "source": [
    "csv_file_path = 'day.csv'\n",
    "\n",
    "df = pd.read_csv(csv_file_path)\n",
    "print(df)\n"
   ]
  },
  {
   "cell_type": "markdown",
   "id": "7b4a6c39",
   "metadata": {},
   "source": [
    "6. Given a dataframe, sort it by multiple columns. "
   ]
  },
  {
   "cell_type": "code",
   "execution_count": 6,
   "id": "8dff0052",
   "metadata": {},
   "outputs": [
    {
     "name": "stdout",
     "output_type": "stream",
     "text": [
      "      Name  Age  Score\n",
      "2  Charlie   25     95\n",
      "0    Alice   25     85\n",
      "1      Bob   30     90\n",
      "4      Eve   30     90\n",
      "3    David   35     88\n"
     ]
    }
   ],
   "source": [
    "data = {\n",
    "    'Name': ['Alice', 'Bob', 'Charlie', 'David', 'Eve'],\n",
    "    'Age': [25, 30, 25, 35, 30],\n",
    "    'Score': [85, 90, 95, 88, 90]\n",
    "}\n",
    "\n",
    "df = pd.DataFrame(data)\n",
    "sorted_df = df.sort_values(by=['Age', 'Score'], ascending=[True, False])\n",
    "\n",
    "print(sorted_df)\n"
   ]
  },
  {
   "cell_type": "markdown",
   "id": "72f00108",
   "metadata": {},
   "source": [
    "7. Given a dataframe with custom indexing, convert and it to default indexing and \n",
    "display it. "
   ]
  },
  {
   "cell_type": "code",
   "execution_count": 7,
   "id": "78106dc6",
   "metadata": {},
   "outputs": [
    {
     "name": "stdout",
     "output_type": "stream",
     "text": [
      "Original DataFrame with custom index:\n",
      "      Name  Age\n",
      "a    Alice   25\n",
      "b      Bob   30\n",
      "c  Charlie   35\n",
      "\n",
      "DataFrame after resetting to default index:\n",
      "      Name  Age\n",
      "0    Alice   25\n",
      "1      Bob   30\n",
      "2  Charlie   35\n"
     ]
    }
   ],
   "source": [
    "data = {\n",
    "    'Name': ['Alice', 'Bob', 'Charlie'],\n",
    "    'Age': [25, 30, 35]\n",
    "}\n",
    "custom_index = ['a', 'b', 'c']\n",
    "df = pd.DataFrame(data, index=custom_index)\n",
    "\n",
    "print(\"Original DataFrame with custom index:\")\n",
    "print(df)\n",
    "\n",
    "df_reset = df.reset_index(drop=True)\n",
    "print(\"\\nDataFrame after resetting to default index:\")\n",
    "print(df_reset)\n"
   ]
  },
  {
   "cell_type": "markdown",
   "id": "f44dcab4",
   "metadata": {},
   "source": [
    "8. Given a dataframe, select first 2 rows and output them. "
   ]
  },
  {
   "cell_type": "code",
   "execution_count": 8,
   "id": "50488943",
   "metadata": {},
   "outputs": [
    {
     "name": "stdout",
     "output_type": "stream",
     "text": [
      "    Name  Age         City\n",
      "0  Alice   25     New York\n",
      "1    Bob   30  Los Angeles\n"
     ]
    }
   ],
   "source": [
    "data = {\n",
    "    'Name': ['Alice', 'Bob', 'Charlie', 'David'],\n",
    "    'Age': [25, 30, 35, 40],\n",
    "    'City': ['New York', 'Los Angeles', 'Chicago', 'Houston']\n",
    "}\n",
    "\n",
    "df = pd.DataFrame(data)\n",
    "\n",
    "first_two_rows = df.head(2)\n",
    "print(first_two_rows)\n"
   ]
  },
  {
   "cell_type": "markdown",
   "id": "fd71454b",
   "metadata": {},
   "source": [
    "9. Given is a dataframe showing name, occupation, salary of people. Find the average \n",
    "salary per occupation. "
   ]
  },
  {
   "cell_type": "code",
   "execution_count": 9,
   "id": "f732ef5d",
   "metadata": {},
   "outputs": [
    {
     "name": "stdout",
     "output_type": "stream",
     "text": [
      "Average Salary per Occupation:\n",
      "Occupation\n",
      "Artist       50000.0\n",
      "Doctor      125000.0\n",
      "Engineer     75000.0\n",
      "Name: Salary, dtype: float64\n"
     ]
    }
   ],
   "source": [
    "data = {\n",
    "    'Name': ['Alice', 'Bob', 'Charlie', 'David', 'Eva'],\n",
    "    'Occupation': ['Engineer', 'Doctor', 'Engineer', 'Doctor', 'Artist'],\n",
    "    'Salary': [70000, 120000, 80000, 130000, 50000]\n",
    "}\n",
    "\n",
    "df = pd.DataFrame(data)\n",
    "\n",
    "avg_salary = df.groupby('Occupation')['Salary'].mean()\n",
    "\n",
    "print(\"Average Salary per Occupation:\")\n",
    "print(avg_salary)\n"
   ]
  },
  {
   "cell_type": "markdown",
   "id": "3b0b943f",
   "metadata": {},
   "source": [
    "10. Given a dataframe with NaN Values, fill the NaN values with 0."
   ]
  },
  {
   "cell_type": "code",
   "execution_count": 10,
   "id": "1da7d0c7",
   "metadata": {},
   "outputs": [
    {
     "name": "stdout",
     "output_type": "stream",
     "text": [
      "Original DataFrame:\n",
      "      Name   Age   Salary\n",
      "0    Alice  25.0  70000.0\n",
      "1      Bob   NaN  80000.0\n",
      "2  Charlie  35.0      NaN\n",
      "3    David   NaN  90000.0\n",
      "\n",
      "DataFrame after filling NaN with 0:\n",
      "      Name   Age   Salary\n",
      "0    Alice  25.0  70000.0\n",
      "1      Bob   0.0  80000.0\n",
      "2  Charlie  35.0      0.0\n",
      "3    David   0.0  90000.0\n"
     ]
    }
   ],
   "source": [
    "import numpy as np\n",
    "\n",
    "data = {\n",
    "    'Name': ['Alice', 'Bob', 'Charlie', 'David'],\n",
    "    'Age': [25, np.nan, 35, np.nan],\n",
    "    'Salary': [70000, 80000, np.nan, 90000]\n",
    "}\n",
    "\n",
    "df = pd.DataFrame(data)\n",
    "\n",
    "print(\"Original DataFrame:\")\n",
    "print(df)\n",
    "\n",
    "df_filled = df.fillna(0)\n",
    "\n",
    "print(\"\\nDataFrame after filling NaN with 0:\")\n",
    "print(df_filled)\n"
   ]
  },
  {
   "cell_type": "markdown",
   "id": "b164646c",
   "metadata": {},
   "source": [
    "11. Given is a dataframe showing Company Names (cname) and corresponding Profits \n",
    "(profit). Convert the values of Profit column such that values in it greater than 0 are \n",
    "set to True and the rest are set to False. "
   ]
  },
  {
   "cell_type": "code",
   "execution_count": 11,
   "id": "dc5639b7",
   "metadata": {},
   "outputs": [
    {
     "name": "stdout",
     "output_type": "stream",
     "text": [
      "       cname  profit\n",
      "0  Company A    True\n",
      "1  Company B   False\n",
      "2  Company C   False\n",
      "3  Company D    True\n"
     ]
    }
   ],
   "source": [
    "data = {\n",
    "    'cname': ['Company A', 'Company B', 'Company C', 'Company D'],\n",
    "    'profit': [5000, -2000, 0, 3000]\n",
    "}\n",
    "\n",
    "df = pd.DataFrame(data)\n",
    "\n",
    "df['profit'] = df['profit'] > 0\n",
    "\n",
    "print(df)\n"
   ]
  },
  {
   "cell_type": "markdown",
   "id": "c1c8c484",
   "metadata": {},
   "source": [
    "12. Given are 2 dataframes, with one dataframe containing Employee ID (eid), Employee \n",
    "Name (ename) and Stipend (stipend) and the other dataframe containing Employee ID \n",
    "(eid) and designation of the employee (designation). Output the Dataframe containing \n",
    "Employee ID (eid), Employee Name (ename), Stipend (stipend) and Position \n",
    "(position). "
   ]
  },
  {
   "cell_type": "code",
   "execution_count": 12,
   "id": "414fcf3a",
   "metadata": {},
   "outputs": [
    {
     "name": "stdout",
     "output_type": "stream",
     "text": [
      "   eid    ename  stipend   position\n",
      "0  101    Alice     5000    Manager\n",
      "1  102      Bob     6000    Analyst\n",
      "2  103  Charlie     5500  Developer\n",
      "3  104    David     5800   Designer\n"
     ]
    }
   ],
   "source": [
    "df1 = pd.DataFrame({\n",
    "    'eid': [101, 102, 103, 104],\n",
    "    'ename': ['Alice', 'Bob', 'Charlie', 'David'],\n",
    "    'stipend': [5000, 6000, 5500, 5800]\n",
    "})\n",
    "\n",
    "df2 = pd.DataFrame({\n",
    "    'eid': [101, 102, 103, 104],\n",
    "    'designation': ['Manager', 'Analyst', 'Developer', 'Designer']\n",
    "})\n",
    "\n",
    "merged_df = pd.merge(df1, df2, on='eid')\n",
    "\n",
    "merged_df.rename(columns={'designation': 'position'}, inplace=True)\n",
    "\n",
    "print(merged_df)\n"
   ]
  }
 ],
 "metadata": {
  "kernelspec": {
   "display_name": "base",
   "language": "python",
   "name": "python3"
  },
  "language_info": {
   "codemirror_mode": {
    "name": "ipython",
    "version": 3
   },
   "file_extension": ".py",
   "mimetype": "text/x-python",
   "name": "python",
   "nbconvert_exporter": "python",
   "pygments_lexer": "ipython3",
   "version": "3.12.4"
  }
 },
 "nbformat": 4,
 "nbformat_minor": 5
}
