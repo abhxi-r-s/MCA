{
 "cells": [
  {
   "cell_type": "markdown",
   "id": "ab0cbf8b",
   "metadata": {},
   "source": [
    "Python program to create two matrices(read values from the user) anf find the following"
   ]
  },
  {
   "cell_type": "code",
   "execution_count": 8,
   "id": "3f07ed7b",
   "metadata": {},
   "outputs": [],
   "source": [
    "import numpy as np"
   ]
  },
  {
   "cell_type": "markdown",
   "id": "f781b787",
   "metadata": {},
   "source": [
    "Reading values of the first matrix"
   ]
  },
  {
   "cell_type": "code",
   "execution_count": 9,
   "id": "af9cd383",
   "metadata": {},
   "outputs": [
    {
     "name": "stdout",
     "output_type": "stream",
     "text": [
      "Details of first matrix\n",
      "Enter the matrix values row by row:\n",
      "The matrix is:\n",
      "[1, 2]\n",
      "[3, 4]\n"
     ]
    }
   ],
   "source": [
    "print(\"Details of first matrix\")\n",
    "\n",
    "row = int(input(\"Enter number of rows of the matrix: \"))\n",
    "col = int(input(\"Enter the number of columns: \"))\n",
    "\n",
    "matrix1 = []\n",
    "\n",
    "print(\"Enter the matrix values row by row:\")\n",
    "\n",
    "for i in range(row):\n",
    "    current_row = []\n",
    "    for j in range(col):\n",
    "        value = int(input(f\"Enter value for element [{i}][{j}]: \"))\n",
    "        current_row.append(value)\n",
    "    matrix1.append(current_row)\n",
    "\n",
    "print(\"The matrix is:\")\n",
    "for r in matrix1:\n",
    "    print(r)\n"
   ]
  },
  {
   "cell_type": "markdown",
   "id": "706502f0",
   "metadata": {},
   "source": [
    "Reading values of the second matrix"
   ]
  },
  {
   "cell_type": "code",
   "execution_count": 10,
   "id": "0dabb5fc",
   "metadata": {},
   "outputs": [
    {
     "name": "stdout",
     "output_type": "stream",
     "text": [
      "Enter the matrix values row by row:\n",
      "The matrix is:\n",
      "[1, 2]\n",
      "[1, 2]\n"
     ]
    }
   ],
   "source": [
    "row2 = int(input(\"Enter number of rows of the matrix: \"))\n",
    "col2 = int(input(\"Enter the number of columns: \"))\n",
    "\n",
    "matrix2 = []\n",
    "\n",
    "print(\"Enter the matrix values row by row:\")\n",
    "\n",
    "for i in range(row2):\n",
    "    current_row = []\n",
    "    for j in range(col2):\n",
    "        value = int(input(f\"Enter value for element [{i}][{j}]: \"))\n",
    "        current_row.append(value)\n",
    "    matrix2.append(current_row)\n",
    "\n",
    "print(\"The matrix is:\")\n",
    "for r in matrix2:\n",
    "    print(r)"
   ]
  },
  {
   "cell_type": "markdown",
   "id": "10d7c2ff",
   "metadata": {},
   "source": [
    "1.Dot product"
   ]
  },
  {
   "cell_type": "code",
   "execution_count": 13,
   "id": "ef0f151d",
   "metadata": {},
   "outputs": [
    {
     "name": "stdout",
     "output_type": "stream",
     "text": [
      "Dot product of the matrix\n",
      "[[ 3  6]\n",
      " [ 7 14]]\n"
     ]
    }
   ],
   "source": [
    "print(\"Dot product of the matrix\")\n",
    "if(row==row2 and col==col2):\n",
    "    lin=np.dot(matrix1,matrix2)\n",
    "    print(lin)\n",
    "else:\n",
    "    print(\"Dot operation is not possible\")"
   ]
  },
  {
   "cell_type": "markdown",
   "id": "a115d4cb",
   "metadata": {},
   "source": [
    "2.Transpose"
   ]
  },
  {
   "cell_type": "code",
   "execution_count": 14,
   "id": "79be8254",
   "metadata": {},
   "outputs": [
    {
     "name": "stdout",
     "output_type": "stream",
     "text": [
      "Transpose is [[1 3]\n",
      " [2 4]]\n"
     ]
    }
   ],
   "source": [
    "transpose=np.transpose(matrix1)\n",
    "print(\"Transpose is\",transpose)"
   ]
  },
  {
   "cell_type": "markdown",
   "id": "9e93f264",
   "metadata": {},
   "source": [
    "3.Trace"
   ]
  },
  {
   "cell_type": "code",
   "execution_count": 15,
   "id": "a1d600bb",
   "metadata": {},
   "outputs": [
    {
     "name": "stdout",
     "output_type": "stream",
     "text": [
      "Trace is  5\n"
     ]
    }
   ],
   "source": [
    "demo=np.trace(matrix1)\n",
    "print(\"Trace is \",demo)"
   ]
  },
  {
   "cell_type": "markdown",
   "id": "7ef9dc11",
   "metadata": {},
   "source": [
    "4.Rank"
   ]
  },
  {
   "cell_type": "code",
   "execution_count": 16,
   "id": "df7fb64e",
   "metadata": {},
   "outputs": [
    {
     "name": "stdout",
     "output_type": "stream",
     "text": [
      "Rank of the matrix : 2\n"
     ]
    }
   ],
   "source": [
    "demo2=np.linalg.matrix_rank(matrix1)\n",
    "print(\"Rank of the matrix :\",demo2)"
   ]
  },
  {
   "cell_type": "markdown",
   "id": "8ca9f918",
   "metadata": {},
   "source": [
    "5.Determinant"
   ]
  },
  {
   "cell_type": "code",
   "execution_count": 17,
   "id": "d5723f0b",
   "metadata": {},
   "outputs": [
    {
     "name": "stdout",
     "output_type": "stream",
     "text": [
      "Determinant of the matrix : 0.0\n"
     ]
    }
   ],
   "source": [
    "demo3=np.linalg.det(matrix2)\n",
    "print(\"Determinant of the matrix :\",demo3)"
   ]
  },
  {
   "cell_type": "markdown",
   "id": "7914b067",
   "metadata": {},
   "source": [
    "6.Inverse"
   ]
  },
  {
   "cell_type": "code",
   "execution_count": 18,
   "id": "8541cb8a",
   "metadata": {},
   "outputs": [
    {
     "name": "stdout",
     "output_type": "stream",
     "text": [
      "Inverse of the matrix : [[-2.   1. ]\n",
      " [ 1.5 -0.5]]\n"
     ]
    }
   ],
   "source": [
    "demo4=np.linalg.inv(matrix1)\n",
    "print(\"Inverse of the matrix :\",demo4)"
   ]
  },
  {
   "cell_type": "markdown",
   "id": "e43b08ef",
   "metadata": {},
   "source": [
    "7.Eigen values and Eigen vectors"
   ]
  },
  {
   "cell_type": "code",
   "execution_count": 21,
   "id": "bdb8a0db",
   "metadata": {},
   "outputs": [
    {
     "name": "stdout",
     "output_type": "stream",
     "text": [
      "EigResult(eigenvalues=array([-0.37228132,  5.37228132]), eigenvectors=array([[-0.82456484, -0.41597356],\n",
      "       [ 0.56576746, -0.90937671]]))\n",
      "[-0.37228132  5.37228132]\n"
     ]
    }
   ],
   "source": [
    "demo5=np.linalg.eig(matrix1)\n",
    "print(demo5)\n",
    "demo5a=np.linalg.eigvals(matrix1)\n",
    "print(demo5a)"
   ]
  }
 ],
 "metadata": {
  "kernelspec": {
   "display_name": "base",
   "language": "python",
   "name": "python3"
  },
  "language_info": {
   "codemirror_mode": {
    "name": "ipython",
    "version": 3
   },
   "file_extension": ".py",
   "mimetype": "text/x-python",
   "name": "python",
   "nbconvert_exporter": "python",
   "pygments_lexer": "ipython3",
   "version": "3.12.4"
  }
 },
 "nbformat": 4,
 "nbformat_minor": 5
}
