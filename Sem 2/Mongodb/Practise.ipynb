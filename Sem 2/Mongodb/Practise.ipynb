{
 "cells": [
  {
   "cell_type": "markdown",
   "id": "e12d0f04",
   "metadata": {},
   "source": [
    "Create Database MERCEDES_BENS and Collection CARS"
   ]
  },
  {
   "cell_type": "code",
   "execution_count": 2,
   "id": "98e24632",
   "metadata": {},
   "outputs": [],
   "source": [
    "import pymongo\n",
    "conn=pymongo.MongoClient(\"mongodb://localhost:27017/\")\n",
    "db=conn[\"MERCEDES_BENS\"]\n",
    "cols=db[\"CARS\"]"
   ]
  },
  {
   "cell_type": "markdown",
   "id": "b1171894",
   "metadata": {},
   "source": [
    "Create values to insert"
   ]
  },
  {
   "cell_type": "code",
   "execution_count": 2,
   "id": "e60ea0ae",
   "metadata": {},
   "outputs": [],
   "source": [
    "values = [\n",
    "    {\"Model\": \"A-Class\", \"Year\": 2020, \"Price\": 350000, \"Mileage\": 12, \"Fuel\": \"Petrol\", \"Color\": \"White\", \"Engine\": \"1.5\", \"Transmission\": \"Auto\", \"Status\": \"Availabale\"},\n",
    "    {\"Model\": \"B-Class\", \"Year\": 2019, \"Price\": 370000, \"Mileage\": 13, \"Fuel\": \"Diesel\", \"Color\": \"Black\", \"Engine\": \"1.5\", \"Transmission\": \"Manual\", \"Status\": \"Availabale\"},\n",
    "    {\"Model\": \"C-Class\", \"Year\": 2021, \"Price\": 450000, \"Mileage\": 14, \"Fuel\": \"Petrol\", \"Color\": \"Blue\", \"Engine\": \"2.0\", \"Transmission\": \"Auto\", \"Status\": \"Availabale\"},\n",
    "    {\"Model\": \"E-Class\", \"Year\": 2018, \"Price\": 500000, \"Mileage\": 12, \"Fuel\": \"Hybrid\", \"Color\": \"Silver\", \"Engine\": \"2.0\", \"Transmission\": \"Auto\", \"Status\": \"Availabale\"},\n",
    "    {\"Model\": \"S-Class\", \"Year\": 2022, \"Price\": 700000, \"Mileage\": 10, \"Fuel\": \"Electric\", \"Color\": \"White\", \"Engine\": \"3.0\", \"Transmission\": \"Auto\", \"Status\": \"Availabale\"},\n",
    "    {\"Model\": \"A-Class\", \"Year\": 2017, \"Price\": 330000, \"Mileage\": 11, \"Fuel\": \"Diesel\", \"Color\": \"Red\", \"Engine\": \"1.5\", \"Transmission\": \"Manual\", \"Status\": \"Availabale\"},\n",
    "    {\"Model\": \"B-Class\", \"Year\": 2020, \"Price\": 390000, \"Mileage\": 15, \"Fuel\": \"Petrol\", \"Color\": \"Black\", \"Engine\": \"1.5\", \"Transmission\": \"Auto\", \"Status\": \"Availabale\"},\n",
    "    {\"Model\": \"C-Class\", \"Year\": 2023, \"Price\": 600000, \"Mileage\": 16, \"Fuel\": \"Petrol\", \"Color\": \"Grey\", \"Engine\": \"2.0\", \"Transmission\": \"Auto\", \"Status\": \"Availabale\"},\n",
    "    {\"Model\": \"E-Class\", \"Year\": 2016, \"Price\": 520000, \"Mileage\": 14, \"Fuel\": \"Diesel\", \"Color\": \"White\", \"Engine\": \"2.5\", \"Transmission\": \"Manual\", \"Status\": \"Availabale\"},\n",
    "    {\"Model\": \"S-Class\", \"Year\": 2019, \"Price\": 750000, \"Mileage\": 10, \"Fuel\": \"Hybrid\", \"Color\": \"Blue\", \"Engine\": \"3.0\", \"Transmission\": \"Auto\", \"Status\": \"Availabale\"},\n",
    "    {\"Model\": \"A-Class\", \"Year\": 2021, \"Price\": 355000, \"Mileage\": 13, \"Fuel\": \"Petrol\", \"Color\": \"Silver\", \"Engine\": \"1.5\", \"Transmission\": \"Auto\", \"Status\": \"Availabale\"},\n",
    "    {\"Model\": \"B-Class\", \"Year\": 2018, \"Price\": 340000, \"Mileage\": 12, \"Fuel\": \"Diesel\", \"Color\": \"Red\", \"Engine\": \"1.5\", \"Transmission\": \"Manual\", \"Status\": \"Availabale\"},\n",
    "    {\"Model\": \"C-Class\", \"Year\": 2022, \"Price\": 470000, \"Mileage\": 14, \"Fuel\": \"Petrol\", \"Color\": \"White\", \"Engine\": \"2.0\", \"Transmission\": \"Auto\", \"Status\": \"Availabale\"},\n",
    "    {\"Model\": \"E-Class\", \"Year\": 2017, \"Price\": 510000, \"Mileage\": 13, \"Fuel\": \"Hybrid\", \"Color\": \"Grey\", \"Engine\": \"2.0\", \"Transmission\": \"Auto\", \"Status\": \"Availabale\"},\n",
    "    {\"Model\": \"S-Class\", \"Year\": 2020, \"Price\": 680000, \"Mileage\": 11, \"Fuel\": \"Electric\", \"Color\": \"Black\", \"Engine\": \"3.0\", \"Transmission\": \"Auto\", \"Status\": \"Availabale\"},\n",
    "    {\"Model\": \"A-Class\", \"Year\": 2015, \"Price\": 320000, \"Mileage\": 10, \"Fuel\": \"Diesel\", \"Color\": \"Blue\", \"Engine\": \"1.5\", \"Transmission\": \"Manual\", \"Status\": \"Availabale\"},\n",
    "    {\"Model\": \"B-Class\", \"Year\": 2021, \"Price\": 400000, \"Mileage\": 15, \"Fuel\": \"Petrol\", \"Color\": \"Silver\", \"Engine\": \"1.5\", \"Transmission\": \"Auto\", \"Status\": \"Availabale\"},\n",
    "    {\"Model\": \"C-Class\", \"Year\": 2019, \"Price\": 460000, \"Mileage\": 14, \"Fuel\": \"Petrol\", \"Color\": \"Red\", \"Engine\": \"2.0\", \"Transmission\": \"Auto\", \"Status\": \"Availabale\"},\n",
    "    {\"Model\": \"E-Class\", \"Year\": 2023, \"Price\": 530000, \"Mileage\": 12, \"Fuel\": \"Diesel\", \"Color\": \"Black\", \"Engine\": \"2.5\", \"Transmission\": \"Manual\", \"Status\": \"Availabale\"},\n",
    "    {\"Model\": \"S-Class\", \"Year\": 2021, \"Price\": 720000, \"Mileage\": 11, \"Fuel\": \"Hybrid\", \"Color\": \"White\", \"Engine\": \"3.0\", \"Transmission\": \"Auto\", \"Status\": \"Availabale\"},\n",
    "    {\"Model\": \"A-Class\", \"Year\": 2016, \"Price\": 340000, \"Mileage\": 12, \"Fuel\": \"Petrol\", \"Color\": \"Blue\", \"Engine\": \"1.5\", \"Transmission\": \"Manual\", \"Status\": \"Availabale\"},\n",
    "    {\"Model\": \"B-Class\", \"Year\": 2022, \"Price\": 410000, \"Mileage\": 13, \"Fuel\": \"Diesel\", \"Color\": \"White\", \"Engine\": \"1.5\", \"Transmission\": \"Auto\", \"Status\": \"Availabale\"},\n",
    "    {\"Model\": \"C-Class\", \"Year\": 2018, \"Price\": 455000, \"Mileage\": 14, \"Fuel\": \"Petrol\", \"Color\": \"Grey\", \"Engine\": \"2.0\", \"Transmission\": \"Auto\", \"Status\": \"Availabale\"},\n",
    "    {\"Model\": \"E-Class\", \"Year\": 2019, \"Price\": 515000, \"Mileage\": 13, \"Fuel\": \"Hybrid\", \"Color\": \"Red\", \"Engine\": \"2.0\", \"Transmission\": \"Auto\", \"Status\": \"Availabale\"},\n",
    "    {\"Model\": \"S-Class\", \"Year\": 2023, \"Price\": 740000, \"Mileage\": 10, \"Fuel\": \"Electric\", \"Color\": \"Silver\", \"Engine\": \"3.0\", \"Transmission\": \"Auto\", \"Status\": \"Availabale\"},\n",
    "    {\"Model\": \"A-Class\", \"Year\": 2020, \"Price\": 350000, \"Mileage\": 12, \"Fuel\": \"Petrol\", \"Color\": \"White\", \"Engine\": \"1.5\", \"Transmission\": \"Auto\", \"Status\": \"Availabale\"},\n",
    "    {\"Model\": \"B-Class\", \"Year\": 2017, \"Price\": 360000, \"Mileage\": 11, \"Fuel\": \"Diesel\", \"Color\": \"Black\", \"Engine\": \"1.5\", \"Transmission\": \"Manual\", \"Status\": \"Availabale\"},\n",
    "    {\"Model\": \"C-Class\", \"Year\": 2020, \"Price\": 480000, \"Mileage\": 15, \"Fuel\": \"Petrol\", \"Color\": \"Blue\", \"Engine\": \"2.0\", \"Transmission\": \"Auto\", \"Status\": \"Availabale\"},\n",
    "    {\"Model\": \"E-Class\", \"Year\": 2015, \"Price\": 500000, \"Mileage\": 12, \"Fuel\": \"Diesel\", \"Color\": \"White\", \"Engine\": \"2.0\", \"Transmission\": \"Manual\", \"Status\": \"Availabale\"},\n",
    "    {\"Model\": \"S-Class\", \"Year\": 2022, \"Price\": 760000, \"Mileage\": 11, \"Fuel\": \"Hybrid\", \"Color\": \"Red\", \"Engine\": \"3.0\", \"Transmission\": \"Auto\", \"Status\": \"Availabale\"},\n",
    "    {\"Model\": \"A-Class\", \"Year\": 2021, \"Price\": 345000, \"Mileage\": 13, \"Fuel\": \"Petrol\", \"Color\": \"Grey\", \"Engine\": \"1.5\", \"Transmission\": \"Auto\", \"Status\": \"Availabale\"},\n",
    "    {\"Model\": \"B-Class\", \"Year\": 2016, \"Price\": 375000, \"Mileage\": 14, \"Fuel\": \"Diesel\", \"Color\": \"Blue\", \"Engine\": \"1.5\", \"Transmission\": \"Manual\", \"Status\": \"Availabale\"},\n",
    "    {\"Model\": \"C-Class\", \"Year\": 2021, \"Price\": 490000, \"Mileage\": 15, \"Fuel\": \"Petrol\", \"Color\": \"Black\", \"Engine\": \"2.0\", \"Transmission\": \"Auto\", \"Status\": \"Availabale\"},\n",
    "    {\"Model\": \"E-Class\", \"Year\": 2020, \"Price\": 540000, \"Mileage\": 13, \"Fuel\": \"Hybrid\", \"Color\": \"Silver\", \"Engine\": \"2.5\", \"Transmission\": \"Auto\", \"Status\": \"Availabale\"},\n",
    "    {\"Model\": \"S-Class\", \"Year\": 2020, \"Price\": 710000, \"Mileage\": 10, \"Fuel\": \"Electric\", \"Color\": \"White\", \"Engine\": \"3.0\", \"Transmission\": \"Auto\", \"Status\": \"Availabale\"},\n",
    "    {\"Model\": \"A-Class\", \"Year\": 2019, \"Price\": 335000, \"Mileage\": 12, \"Fuel\": \"Diesel\", \"Color\": \"Red\", \"Engine\": \"1.5\", \"Transmission\": \"Manual\", \"Status\": \"Availabale\"},\n",
    "    {\"Model\": \"B-Class\", \"Year\": 2015, \"Price\": 380000, \"Mileage\": 13, \"Fuel\": \"Petrol\", \"Color\": \"White\", \"Engine\": \"1.5\", \"Transmission\": \"Auto\", \"Status\": \"Availabale\"},\n",
    "    {\"Model\": \"C-Class\", \"Year\": 2017, \"Price\": 460000, \"Mileage\": 12, \"Fuel\": \"Petrol\", \"Color\": \"Silver\", \"Engine\": \"2.0\", \"Transmission\": \"Auto\", \"Status\": \"Availabale\"},\n",
    "    {\"Model\": \"E-Class\", \"Year\": 2022, \"Price\": 530000, \"Mileage\": 14, \"Fuel\": \"Diesel\", \"Color\": \"Grey\", \"Engine\": \"2.0\", \"Transmission\": \"Manual\", \"Status\": \"Availabale\"},\n",
    "    {\"Model\": \"S-Class\", \"Year\": 2018, \"Price\": 730000, \"Mileage\": 11, \"Fuel\": \"Hybrid\", \"Color\": \"Blue\", \"Engine\": \"3.0\", \"Transmission\": \"Auto\", \"Status\": \"Availabale\"},\n",
    "    {\"Model\": \"A-Class\", \"Year\": 2018, \"Price\": 360000, \"Mileage\": 13, \"Fuel\": \"Petrol\", \"Color\": \"Black\", \"Engine\": \"1.5\", \"Transmission\": \"Auto\", \"Status\": \"Availabale\"},\n",
    "    {\"Model\": \"B-Class\", \"Year\": 2019, \"Price\": 390000, \"Mileage\": 14, \"Fuel\": \"Diesel\", \"Color\": \"Silver\", \"Engine\": \"1.5\", \"Transmission\": \"Manual\", \"Status\": \"Availabale\"},\n",
    "    {\"Model\": \"C-Class\", \"Year\": 2023, \"Price\": 500000, \"Mileage\": 15, \"Fuel\": \"Petrol\", \"Color\": \"Red\", \"Engine\": \"2.0\", \"Transmission\": \"Auto\", \"Status\": \"Availabale\"},\n",
    "    {\"Model\": \"E-Class\", \"Year\": 2021, \"Price\": 520000, \"Mileage\": 13, \"Fuel\": \"Hybrid\", \"Color\": \"White\", \"Engine\": \"2.5\", \"Transmission\": \"Auto\", \"Status\": \"Availabale\"},\n",
    "    {\"Model\": \"S-Class\", \"Year\": 2017, \"Price\": 745000, \"Mileage\": 10, \"Fuel\": \"Electric\", \"Color\": \"Grey\", \"Engine\": \"3.0\", \"Transmission\": \"Auto\", \"Status\": \"Availabale\"},\n",
    "    {\"Model\": \"A-Class\", \"Year\": 2022, \"Price\": 365000, \"Mileage\": 12, \"Fuel\": \"Petrol\", \"Color\": \"Blue\", \"Engine\": \"1.5\", \"Transmission\": \"Manual\", \"Status\": \"Availabale\"},\n",
    "    {\"Model\": \"B-Class\", \"Year\": 2023, \"Price\": 405000, \"Mileage\": 13, \"Fuel\": \"Diesel\", \"Color\": \"Black\", \"Engine\": \"1.5\", \"Transmission\": \"Auto\", \"Status\": \"Availabale\"}\n",
    "]\n"
   ]
  },
  {
   "cell_type": "markdown",
   "id": "fa5ce727",
   "metadata": {},
   "source": [
    "Insert the values into the Database"
   ]
  },
  {
   "cell_type": "code",
   "execution_count": 3,
   "id": "df8cda0c",
   "metadata": {},
   "outputs": [
    {
     "data": {
      "text/plain": [
       "InsertManyResult([ObjectId('683572e3aa67874cea7e7f67'), ObjectId('683572e3aa67874cea7e7f68'), ObjectId('683572e3aa67874cea7e7f69'), ObjectId('683572e3aa67874cea7e7f6a'), ObjectId('683572e3aa67874cea7e7f6b'), ObjectId('683572e3aa67874cea7e7f6c'), ObjectId('683572e3aa67874cea7e7f6d'), ObjectId('683572e3aa67874cea7e7f6e'), ObjectId('683572e3aa67874cea7e7f6f'), ObjectId('683572e3aa67874cea7e7f70'), ObjectId('683572e3aa67874cea7e7f71'), ObjectId('683572e3aa67874cea7e7f72'), ObjectId('683572e3aa67874cea7e7f73'), ObjectId('683572e3aa67874cea7e7f74'), ObjectId('683572e3aa67874cea7e7f75'), ObjectId('683572e3aa67874cea7e7f76'), ObjectId('683572e3aa67874cea7e7f77'), ObjectId('683572e3aa67874cea7e7f78'), ObjectId('683572e3aa67874cea7e7f79'), ObjectId('683572e3aa67874cea7e7f7a'), ObjectId('683572e3aa67874cea7e7f7b'), ObjectId('683572e3aa67874cea7e7f7c'), ObjectId('683572e3aa67874cea7e7f7d'), ObjectId('683572e3aa67874cea7e7f7e'), ObjectId('683572e3aa67874cea7e7f7f'), ObjectId('683572e3aa67874cea7e7f80'), ObjectId('683572e3aa67874cea7e7f81'), ObjectId('683572e3aa67874cea7e7f82'), ObjectId('683572e3aa67874cea7e7f83'), ObjectId('683572e3aa67874cea7e7f84'), ObjectId('683572e3aa67874cea7e7f85'), ObjectId('683572e3aa67874cea7e7f86'), ObjectId('683572e3aa67874cea7e7f87'), ObjectId('683572e3aa67874cea7e7f88'), ObjectId('683572e3aa67874cea7e7f89'), ObjectId('683572e3aa67874cea7e7f8a'), ObjectId('683572e3aa67874cea7e7f8b'), ObjectId('683572e3aa67874cea7e7f8c'), ObjectId('683572e3aa67874cea7e7f8d'), ObjectId('683572e3aa67874cea7e7f8e'), ObjectId('683572e3aa67874cea7e7f8f'), ObjectId('683572e3aa67874cea7e7f90'), ObjectId('683572e3aa67874cea7e7f91'), ObjectId('683572e3aa67874cea7e7f92'), ObjectId('683572e3aa67874cea7e7f93'), ObjectId('683572e3aa67874cea7e7f94'), ObjectId('683572e3aa67874cea7e7f95')], acknowledged=True)"
      ]
     },
     "execution_count": 3,
     "metadata": {},
     "output_type": "execute_result"
    }
   ],
   "source": [
    "cols.insert_many(values)"
   ]
  },
  {
   "cell_type": "markdown",
   "id": "b9bae5f9",
   "metadata": {},
   "source": [
    "Display Cars of Year 2016"
   ]
  },
  {
   "cell_type": "code",
   "execution_count": 4,
   "id": "3f762799",
   "metadata": {},
   "outputs": [
    {
     "name": "stdout",
     "output_type": "stream",
     "text": [
      "{'Model': 'E-Class', 'Year': 2016, 'Price': 520000, 'Mileage': 14, 'Fuel': 'Diesel', 'Color': 'White', 'Engine': '2.5', 'Transmission': 'Manual', 'Status': 'Availabale'}\n",
      "{'Model': 'A-Class', 'Year': 2016, 'Price': 340000, 'Mileage': 12, 'Fuel': 'Petrol', 'Color': 'Blue', 'Engine': '1.5', 'Transmission': 'Manual', 'Status': 'Availabale'}\n",
      "{'Model': 'B-Class', 'Year': 2016, 'Price': 375000, 'Mileage': 14, 'Fuel': 'Diesel', 'Color': 'Blue', 'Engine': '1.5', 'Transmission': 'Manual', 'Status': 'Availabale'}\n"
     ]
    }
   ],
   "source": [
    "var=cols.find({\"Year\":2016},{\"_id\":0})\n",
    "for i in var:\n",
    "    print(i)"
   ]
  },
  {
   "cell_type": "markdown",
   "id": "5ff7a049",
   "metadata": {},
   "source": [
    "Display Car Model of Fuel Hybrid\n"
   ]
  },
  {
   "cell_type": "code",
   "execution_count": 5,
   "id": "09478a0f",
   "metadata": {},
   "outputs": [
    {
     "name": "stdout",
     "output_type": "stream",
     "text": [
      "{'Model': 'E-Class'}\n",
      "{'Model': 'S-Class'}\n",
      "{'Model': 'E-Class'}\n",
      "{'Model': 'S-Class'}\n",
      "{'Model': 'E-Class'}\n",
      "{'Model': 'S-Class'}\n",
      "{'Model': 'E-Class'}\n",
      "{'Model': 'S-Class'}\n",
      "{'Model': 'E-Class'}\n"
     ]
    }
   ],
   "source": [
    "var=cols.find({\"Fuel\":\"Hybrid\"},{\"_id\":0,\"Model\":1})\n",
    "for i in var:\n",
    "    print(i)"
   ]
  },
  {
   "cell_type": "markdown",
   "id": "c5b14f1e",
   "metadata": {},
   "source": [
    "Display Cars of Fuel type Petrol and Year 2020"
   ]
  },
  {
   "cell_type": "code",
   "execution_count": null,
   "id": "dac8a870",
   "metadata": {},
   "outputs": [
    {
     "name": "stdout",
     "output_type": "stream",
     "text": [
      "{'Model': 'A-Class'}\n",
      "{'Model': 'B-Class'}\n",
      "{'Model': 'A-Class'}\n",
      "{'Model': 'C-Class'}\n"
     ]
    }
   ],
   "source": [
    "var=cols.find({\"$and\":[{\"Year\":2020},{\"Fuel\":\"Petrol\"}]},{\"_id\":0,\"Model\":1})\n",
    "for i in var:\n",
    "    print(i)"
   ]
  },
  {
   "cell_type": "markdown",
   "id": "a8181ea3",
   "metadata": {},
   "source": [
    "Display Cars of color Silver or Transmissin Auto"
   ]
  },
  {
   "cell_type": "code",
   "execution_count": 10,
   "id": "3b5fc35c",
   "metadata": {},
   "outputs": [
    {
     "name": "stdout",
     "output_type": "stream",
     "text": [
      "{'Color': 'White', 'Transmission': 'Auto'}\n",
      "{'Color': 'Blue', 'Transmission': 'Auto'}\n",
      "{'Color': 'Silver', 'Transmission': 'Auto'}\n",
      "{'Color': 'White', 'Transmission': 'Auto'}\n",
      "{'Color': 'Black', 'Transmission': 'Auto'}\n",
      "{'Color': 'Grey', 'Transmission': 'Auto'}\n",
      "{'Color': 'Blue', 'Transmission': 'Auto'}\n",
      "{'Color': 'Silver', 'Transmission': 'Auto'}\n",
      "{'Color': 'White', 'Transmission': 'Auto'}\n",
      "{'Color': 'Grey', 'Transmission': 'Auto'}\n",
      "{'Color': 'Black', 'Transmission': 'Auto'}\n",
      "{'Color': 'Silver', 'Transmission': 'Auto'}\n",
      "{'Color': 'Red', 'Transmission': 'Auto'}\n",
      "{'Color': 'White', 'Transmission': 'Auto'}\n",
      "{'Color': 'White', 'Transmission': 'Auto'}\n",
      "{'Color': 'Grey', 'Transmission': 'Auto'}\n",
      "{'Color': 'Red', 'Transmission': 'Auto'}\n",
      "{'Color': 'Silver', 'Transmission': 'Auto'}\n",
      "{'Color': 'White', 'Transmission': 'Auto'}\n",
      "{'Color': 'Blue', 'Transmission': 'Auto'}\n",
      "{'Color': 'Red', 'Transmission': 'Auto'}\n",
      "{'Color': 'Grey', 'Transmission': 'Auto'}\n",
      "{'Color': 'Black', 'Transmission': 'Auto'}\n",
      "{'Color': 'Silver', 'Transmission': 'Auto'}\n",
      "{'Color': 'White', 'Transmission': 'Auto'}\n",
      "{'Color': 'White', 'Transmission': 'Auto'}\n",
      "{'Color': 'Silver', 'Transmission': 'Auto'}\n",
      "{'Color': 'Blue', 'Transmission': 'Auto'}\n",
      "{'Color': 'Black', 'Transmission': 'Auto'}\n",
      "{'Color': 'Silver', 'Transmission': 'Manual'}\n",
      "{'Color': 'Red', 'Transmission': 'Auto'}\n",
      "{'Color': 'White', 'Transmission': 'Auto'}\n",
      "{'Color': 'Grey', 'Transmission': 'Auto'}\n",
      "{'Color': 'Black', 'Transmission': 'Auto'}\n"
     ]
    }
   ],
   "source": [
    "var=cols.find({\"$or\":[{\"Color\":\"Silver\"},{\"Transmission\":\"Auto\"}]},{\"_id\":0,\"Color\":1,\"Transmission\":1})\n",
    "for i in var:\n",
    "\tprint(i)"
   ]
  },
  {
   "cell_type": "markdown",
   "id": "3ead26b6",
   "metadata": {},
   "source": [
    "Update Mileage of Cars Hybrid Type to 25"
   ]
  },
  {
   "cell_type": "code",
   "execution_count": 12,
   "id": "09e15a08",
   "metadata": {},
   "outputs": [
    {
     "data": {
      "text/plain": [
       "UpdateResult({'n': 9, 'nModified': 0, 'ok': 1.0, 'updatedExisting': True}, acknowledged=True)"
      ]
     },
     "execution_count": 12,
     "metadata": {},
     "output_type": "execute_result"
    }
   ],
   "source": [
    "cols.update_many({\"Fuel\":\"Hybrid\"},{\"$set\":{\"Mileage\":25}})\n"
   ]
  },
  {
   "cell_type": "markdown",
   "id": "609bb79f",
   "metadata": {},
   "source": [
    "Display Mileage and Fuel"
   ]
  },
  {
   "cell_type": "code",
   "execution_count": 14,
   "id": "3bd03fee",
   "metadata": {},
   "outputs": [
    {
     "name": "stdout",
     "output_type": "stream",
     "text": [
      "{'Mileage': 12, 'Fuel': 'Petrol'}\n",
      "{'Mileage': 13, 'Fuel': 'Diesel'}\n",
      "{'Mileage': 14, 'Fuel': 'Petrol'}\n",
      "{'Mileage': 25, 'Fuel': 'Hybrid'}\n",
      "{'Mileage': 10, 'Fuel': 'Electric'}\n",
      "{'Mileage': 11, 'Fuel': 'Diesel'}\n",
      "{'Mileage': 15, 'Fuel': 'Petrol'}\n",
      "{'Mileage': 16, 'Fuel': 'Petrol'}\n",
      "{'Mileage': 14, 'Fuel': 'Diesel'}\n",
      "{'Mileage': 25, 'Fuel': 'Hybrid'}\n",
      "{'Mileage': 13, 'Fuel': 'Petrol'}\n",
      "{'Mileage': 12, 'Fuel': 'Diesel'}\n",
      "{'Mileage': 14, 'Fuel': 'Petrol'}\n",
      "{'Mileage': 25, 'Fuel': 'Hybrid'}\n",
      "{'Mileage': 11, 'Fuel': 'Electric'}\n",
      "{'Mileage': 10, 'Fuel': 'Diesel'}\n",
      "{'Mileage': 15, 'Fuel': 'Petrol'}\n",
      "{'Mileage': 14, 'Fuel': 'Petrol'}\n",
      "{'Mileage': 12, 'Fuel': 'Diesel'}\n",
      "{'Mileage': 25, 'Fuel': 'Hybrid'}\n",
      "{'Mileage': 12, 'Fuel': 'Petrol'}\n",
      "{'Mileage': 13, 'Fuel': 'Diesel'}\n",
      "{'Mileage': 14, 'Fuel': 'Petrol'}\n",
      "{'Mileage': 25, 'Fuel': 'Hybrid'}\n",
      "{'Mileage': 10, 'Fuel': 'Electric'}\n",
      "{'Mileage': 12, 'Fuel': 'Petrol'}\n",
      "{'Mileage': 11, 'Fuel': 'Diesel'}\n",
      "{'Mileage': 15, 'Fuel': 'Petrol'}\n",
      "{'Mileage': 12, 'Fuel': 'Diesel'}\n",
      "{'Mileage': 25, 'Fuel': 'Hybrid'}\n",
      "{'Mileage': 13, 'Fuel': 'Petrol'}\n",
      "{'Mileage': 14, 'Fuel': 'Diesel'}\n",
      "{'Mileage': 15, 'Fuel': 'Petrol'}\n",
      "{'Mileage': 25, 'Fuel': 'Hybrid'}\n",
      "{'Mileage': 10, 'Fuel': 'Electric'}\n",
      "{'Mileage': 12, 'Fuel': 'Diesel'}\n",
      "{'Mileage': 13, 'Fuel': 'Petrol'}\n",
      "{'Mileage': 12, 'Fuel': 'Petrol'}\n",
      "{'Mileage': 14, 'Fuel': 'Diesel'}\n",
      "{'Mileage': 25, 'Fuel': 'Hybrid'}\n",
      "{'Mileage': 13, 'Fuel': 'Petrol'}\n",
      "{'Mileage': 14, 'Fuel': 'Diesel'}\n",
      "{'Mileage': 15, 'Fuel': 'Petrol'}\n",
      "{'Mileage': 25, 'Fuel': 'Hybrid'}\n",
      "{'Mileage': 10, 'Fuel': 'Electric'}\n",
      "{'Mileage': 12, 'Fuel': 'Petrol'}\n",
      "{'Mileage': 13, 'Fuel': 'Diesel'}\n"
     ]
    }
   ],
   "source": [
    "var=cols.find({},{\"_id\":0,\"_Model\":1,\"Fuel\":1,\"Mileage\":1})\n",
    "for i in var:\n",
    "    print(i)"
   ]
  },
  {
   "cell_type": "markdown",
   "id": "0c5094aa",
   "metadata": {},
   "source": [
    "Sort and Display Car details based on Year (Only last 10 required)"
   ]
  },
  {
   "cell_type": "code",
   "execution_count": 16,
   "id": "ab25644c",
   "metadata": {},
   "outputs": [
    {
     "name": "stdout",
     "output_type": "stream",
     "text": [
      "{'Model': 'C-Class', 'Year': 2023, 'Price': 600000}\n",
      "{'Model': 'E-Class', 'Year': 2023, 'Price': 530000}\n",
      "{'Model': 'B-Class', 'Year': 2023, 'Price': 405000}\n",
      "{'Model': 'C-Class', 'Year': 2023, 'Price': 500000}\n",
      "{'Model': 'S-Class', 'Year': 2023, 'Price': 740000}\n",
      "{'Model': 'C-Class', 'Year': 2022, 'Price': 470000}\n",
      "{'Model': 'E-Class', 'Year': 2022, 'Price': 530000}\n",
      "{'Model': 'S-Class', 'Year': 2022, 'Price': 760000}\n",
      "{'Model': 'A-Class', 'Year': 2022, 'Price': 365000}\n",
      "{'Model': 'B-Class', 'Year': 2022, 'Price': 410000}\n"
     ]
    }
   ],
   "source": [
    "var=cols.find({},{\"_id\":0,\"Model\":1,\"Year\":1,\"Price\":1}).sort({\"Year\":-1}).limit(10)\n",
    "for i in var:\n",
    "    print(i)"
   ]
  },
  {
   "cell_type": "markdown",
   "id": "72ea0562",
   "metadata": {},
   "source": [
    "Sort and Display Car details based on Year (Only first  5 required)"
   ]
  },
  {
   "cell_type": "code",
   "execution_count": 17,
   "id": "ea1ba5c4",
   "metadata": {},
   "outputs": [
    {
     "name": "stdout",
     "output_type": "stream",
     "text": [
      "{'Model': 'B-Class', 'Year': 2015, 'Price': 380000, 'Mileage': 13, 'Fuel': 'Petrol', 'Color': 'White', 'Engine': '1.5', 'Transmission': 'Auto', 'Status': 'Availabale'}\n",
      "{'Model': 'A-Class', 'Year': 2015, 'Price': 320000, 'Mileage': 10, 'Fuel': 'Diesel', 'Color': 'Blue', 'Engine': '1.5', 'Transmission': 'Manual', 'Status': 'Availabale'}\n",
      "{'Model': 'E-Class', 'Year': 2015, 'Price': 500000, 'Mileage': 12, 'Fuel': 'Diesel', 'Color': 'White', 'Engine': '2.0', 'Transmission': 'Manual', 'Status': 'Availabale'}\n",
      "{'Model': 'B-Class', 'Year': 2016, 'Price': 375000, 'Mileage': 14, 'Fuel': 'Diesel', 'Color': 'Blue', 'Engine': '1.5', 'Transmission': 'Manual', 'Status': 'Availabale'}\n",
      "{'Model': 'A-Class', 'Year': 2016, 'Price': 340000, 'Mileage': 12, 'Fuel': 'Petrol', 'Color': 'Blue', 'Engine': '1.5', 'Transmission': 'Manual', 'Status': 'Availabale'}\n"
     ]
    }
   ],
   "source": [
    "var=cols.find({},{\"_id\":0}).sort({\"Year\":1}).limit(5)\n",
    "for i in var:\n",
    "    print(i)"
   ]
  },
  {
   "cell_type": "markdown",
   "id": "da2a093f",
   "metadata": {},
   "source": [
    "Display car details with mileage greater than 20"
   ]
  },
  {
   "cell_type": "code",
   "execution_count": 19,
   "id": "d80d9b56",
   "metadata": {},
   "outputs": [
    {
     "name": "stdout",
     "output_type": "stream",
     "text": [
      "{'Model': 'E-Class', 'Mileage': 25}\n",
      "{'Model': 'S-Class', 'Mileage': 25}\n",
      "{'Model': 'E-Class', 'Mileage': 25}\n",
      "{'Model': 'S-Class', 'Mileage': 25}\n",
      "{'Model': 'E-Class', 'Mileage': 25}\n",
      "{'Model': 'S-Class', 'Mileage': 25}\n",
      "{'Model': 'E-Class', 'Mileage': 25}\n",
      "{'Model': 'S-Class', 'Mileage': 25}\n",
      "{'Model': 'E-Class', 'Mileage': 25}\n"
     ]
    }
   ],
   "source": [
    "var=cols.find({\"Mileage\":{\"$gt\":20}},{\"_id\":0,\"Model\":1,\"Mileage\":1})\n",
    "for i in var:\n",
    "\tprint(i)\n"
   ]
  },
  {
   "cell_type": "markdown",
   "id": "3bd36a50",
   "metadata": {},
   "source": [
    "Count and Display car details with mileage less than 15"
   ]
  },
  {
   "cell_type": "code",
   "execution_count": 25,
   "id": "5b07d8bf",
   "metadata": {},
   "outputs": [
    {
     "name": "stdout",
     "output_type": "stream",
     "text": [
      "{'Model': 'A-Class', 'Mileage': 12}\n",
      "{'Model': 'B-Class', 'Mileage': 13}\n",
      "{'Model': 'C-Class', 'Mileage': 14}\n",
      "{'Model': 'S-Class', 'Mileage': 10}\n",
      "{'Model': 'A-Class', 'Mileage': 11}\n",
      "{'Model': 'E-Class', 'Mileage': 14}\n",
      "{'Model': 'A-Class', 'Mileage': 13}\n",
      "{'Model': 'B-Class', 'Mileage': 12}\n",
      "{'Model': 'C-Class', 'Mileage': 14}\n",
      "{'Model': 'S-Class', 'Mileage': 11}\n",
      "{'Model': 'A-Class', 'Mileage': 10}\n",
      "{'Model': 'C-Class', 'Mileage': 14}\n",
      "{'Model': 'E-Class', 'Mileage': 12}\n",
      "{'Model': 'A-Class', 'Mileage': 12}\n",
      "{'Model': 'B-Class', 'Mileage': 13}\n",
      "{'Model': 'C-Class', 'Mileage': 14}\n",
      "{'Model': 'S-Class', 'Mileage': 10}\n",
      "{'Model': 'A-Class', 'Mileage': 12}\n",
      "{'Model': 'B-Class', 'Mileage': 11}\n",
      "{'Model': 'E-Class', 'Mileage': 12}\n",
      "{'Model': 'A-Class', 'Mileage': 13}\n",
      "{'Model': 'B-Class', 'Mileage': 14}\n",
      "{'Model': 'S-Class', 'Mileage': 10}\n",
      "{'Model': 'A-Class', 'Mileage': 12}\n",
      "{'Model': 'B-Class', 'Mileage': 13}\n",
      "{'Model': 'C-Class', 'Mileage': 12}\n",
      "{'Model': 'E-Class', 'Mileage': 14}\n",
      "{'Model': 'A-Class', 'Mileage': 13}\n",
      "{'Model': 'B-Class', 'Mileage': 14}\n",
      "{'Model': 'S-Class', 'Mileage': 10}\n",
      "{'Model': 'A-Class', 'Mileage': 12}\n",
      "{'Model': 'B-Class', 'Mileage': 13}\n",
      "Total number of car having mileage less that 15 are: 32\n"
     ]
    }
   ],
   "source": [
    "count=0\n",
    "var=cols.find({\"Mileage\":{\"$lt\":15}},{\"_id\":0,\"Model\":1,\"Mileage\":1})\n",
    "for i in var:\n",
    "    count+=1\n",
    "    print(i)\n",
    "print(\"Total number of car having mileage less that 15 are:\",count)"
   ]
  },
  {
   "cell_type": "markdown",
   "id": "81d5e4d9",
   "metadata": {},
   "source": [
    "Single values to Insert"
   ]
  },
  {
   "cell_type": "code",
   "execution_count": null,
   "id": "bca6893c",
   "metadata": {},
   "outputs": [],
   "source": [
    "values2=[{\"Model\": \"V-Class\", \"Year\": 2025, \"Price\": 750000, \"Mileage\": 10, \"Fuel\": \"Hybrid\", \"Color\": \"Gold\", \"Engine\": \"13.0\", \"Transmission\": \"Auto\", \"Status\": \"Availabale\"}]"
   ]
  },
  {
   "cell_type": "code",
   "execution_count": null,
   "id": "637e1312",
   "metadata": {},
   "outputs": [
    {
     "data": {
      "text/plain": [
       "InsertOneResult(ObjectId('6835957eaa67874cea7e7f96'), acknowledged=True)"
      ]
     },
     "execution_count": 31,
     "metadata": {},
     "output_type": "execute_result"
    }
   ],
   "source": [
    "cols.insert_one(values2[0])"
   ]
  },
  {
   "cell_type": "markdown",
   "id": "c455f07e",
   "metadata": {},
   "source": [
    "Insert GLA Details"
   ]
  },
  {
   "cell_type": "code",
   "execution_count": 32,
   "id": "d108511c",
   "metadata": {},
   "outputs": [
    {
     "data": {
      "text/plain": [
       "InsertOneResult(ObjectId('683597beaa67874cea7e7f97'), acknowledged=True)"
      ]
     },
     "execution_count": 32,
     "metadata": {},
     "output_type": "execute_result"
    }
   ],
   "source": [
    "cols.insert_one({\"Model\":\"GLA\",\"Year\":2024,\"Price\":800000,\"Mileage\":9,\"Fuel\":\"Electric\",\"Color\":\"Black\",\"Engine\":\"2.0\",\"Transmission\":\"Auto\",\"Status\":\"Availabale\"})"
   ]
  },
  {
   "cell_type": "markdown",
   "id": "e8fff996",
   "metadata": {},
   "source": [
    "Display the count of Electric cars"
   ]
  },
  {
   "cell_type": "code",
   "execution_count": 33,
   "id": "d14af1fd",
   "metadata": {},
   "outputs": [
    {
     "name": "stdout",
     "output_type": "stream",
     "text": [
      "Total number of cars with Electric fuel type: 6\n"
     ]
    }
   ],
   "source": [
    "var=cols.count_documents({\"Fuel\":\"Electric\"})\n",
    "print(\"Total number of cars with Electric fuel type:\", var)"
   ]
  },
  {
   "cell_type": "markdown",
   "id": "b82fc972",
   "metadata": {},
   "source": [
    "To Update the Price of GLA to 900000"
   ]
  },
  {
   "cell_type": "code",
   "execution_count": 34,
   "id": "b76799cf",
   "metadata": {},
   "outputs": [
    {
     "data": {
      "text/plain": [
       "UpdateResult({'n': 1, 'nModified': 1, 'ok': 1.0, 'updatedExisting': True}, acknowledged=True)"
      ]
     },
     "execution_count": 34,
     "metadata": {},
     "output_type": "execute_result"
    }
   ],
   "source": [
    "cols.update_one({\"Model\":\"GLA\"},{\"$set\":{\"Price\":900000}})"
   ]
  },
  {
   "cell_type": "markdown",
   "id": "76f9a3eb",
   "metadata": {},
   "source": [
    "To set Mileage of Electric cars to range of 350"
   ]
  },
  {
   "cell_type": "code",
   "execution_count": 35,
   "id": "05945b44",
   "metadata": {},
   "outputs": [
    {
     "data": {
      "text/plain": [
       "UpdateResult({'n': 6, 'nModified': 6, 'ok': 1.0, 'updatedExisting': True}, acknowledged=True)"
      ]
     },
     "execution_count": 35,
     "metadata": {},
     "output_type": "execute_result"
    }
   ],
   "source": [
    "cols.update_many({\"Fuel\":\"Electric\"},{\"$set\":{\"Mileage\":350}})"
   ]
  },
  {
   "cell_type": "markdown",
   "id": "6b02b45c",
   "metadata": {},
   "source": [
    "To delete the cars of the year 2015"
   ]
  },
  {
   "cell_type": "code",
   "execution_count": 36,
   "id": "f8d365e0",
   "metadata": {},
   "outputs": [
    {
     "data": {
      "text/plain": [
       "DeleteResult({'n': 3, 'ok': 1.0}, acknowledged=True)"
      ]
     },
     "execution_count": 36,
     "metadata": {},
     "output_type": "execute_result"
    }
   ],
   "source": [
    "cols.delete_many({\"Year\":2015})"
   ]
  },
  {
   "cell_type": "markdown",
   "id": "afb0a93d",
   "metadata": {},
   "source": [
    "To delete Single car details with mileage 10"
   ]
  },
  {
   "cell_type": "code",
   "execution_count": 37,
   "id": "27d55243",
   "metadata": {},
   "outputs": [
    {
     "data": {
      "text/plain": [
       "DeleteResult({'n': 1, 'ok': 1.0}, acknowledged=True)"
      ]
     },
     "execution_count": 37,
     "metadata": {},
     "output_type": "execute_result"
    }
   ],
   "source": [
    "cols.delete_one({\"Mileage\":10})"
   ]
  },
  {
   "cell_type": "markdown",
   "id": "7d8e6cbf",
   "metadata": {},
   "source": [
    "Display the Car Name Starting with letter A"
   ]
  },
  {
   "cell_type": "code",
   "execution_count": 38,
   "id": "7920ad5f",
   "metadata": {},
   "outputs": [
    {
     "name": "stdout",
     "output_type": "stream",
     "text": [
      "{'Model': 'A-Class', 'Year': 2020, 'Price': 350000, 'Mileage': 12, 'Fuel': 'Petrol', 'Color': 'White', 'Engine': '1.5', 'Transmission': 'Auto', 'Status': 'Availabale'}\n",
      "{'Model': 'A-Class', 'Year': 2017, 'Price': 330000, 'Mileage': 11, 'Fuel': 'Diesel', 'Color': 'Red', 'Engine': '1.5', 'Transmission': 'Manual', 'Status': 'Availabale'}\n",
      "{'Model': 'A-Class', 'Year': 2021, 'Price': 355000, 'Mileage': 13, 'Fuel': 'Petrol', 'Color': 'Silver', 'Engine': '1.5', 'Transmission': 'Auto', 'Status': 'Availabale'}\n",
      "{'Model': 'A-Class', 'Year': 2016, 'Price': 340000, 'Mileage': 12, 'Fuel': 'Petrol', 'Color': 'Blue', 'Engine': '1.5', 'Transmission': 'Manual', 'Status': 'Availabale'}\n",
      "{'Model': 'A-Class', 'Year': 2020, 'Price': 350000, 'Mileage': 12, 'Fuel': 'Petrol', 'Color': 'White', 'Engine': '1.5', 'Transmission': 'Auto', 'Status': 'Availabale'}\n",
      "{'Model': 'A-Class', 'Year': 2021, 'Price': 345000, 'Mileage': 13, 'Fuel': 'Petrol', 'Color': 'Grey', 'Engine': '1.5', 'Transmission': 'Auto', 'Status': 'Availabale'}\n",
      "{'Model': 'A-Class', 'Year': 2019, 'Price': 335000, 'Mileage': 12, 'Fuel': 'Diesel', 'Color': 'Red', 'Engine': '1.5', 'Transmission': 'Manual', 'Status': 'Availabale'}\n",
      "{'Model': 'A-Class', 'Year': 2018, 'Price': 360000, 'Mileage': 13, 'Fuel': 'Petrol', 'Color': 'Black', 'Engine': '1.5', 'Transmission': 'Auto', 'Status': 'Availabale'}\n",
      "{'Model': 'A-Class', 'Year': 2022, 'Price': 365000, 'Mileage': 12, 'Fuel': 'Petrol', 'Color': 'Blue', 'Engine': '1.5', 'Transmission': 'Manual', 'Status': 'Availabale'}\n"
     ]
    }
   ],
   "source": [
    "var=cols.find({\"Model\":{\"$regex\":\"^A\"}},{\"_id\":0})\n",
    "for i in var:\n",
    "    print(i)"
   ]
  },
  {
   "cell_type": "markdown",
   "id": "6b080159",
   "metadata": {},
   "source": [
    "Display car details with name ending with letter A"
   ]
  },
  {
   "cell_type": "code",
   "execution_count": 39,
   "id": "d44b3b6e",
   "metadata": {},
   "outputs": [
    {
     "name": "stdout",
     "output_type": "stream",
     "text": [
      "{'Model': 'GLA', 'Year': 2024, 'Price': 900000, 'Mileage': 350, 'Fuel': 'Electric', 'Color': 'Black', 'Engine': '2.0', 'Transmission': 'Auto', 'Status': 'Availabale'}\n"
     ]
    }
   ],
   "source": [
    "var=cols.find({\"Model\":{\"$regex\":\"A$\"}},{\"_id\":0})\n",
    "for i in var:\n",
    "    print(i)"
   ]
  },
  {
   "cell_type": "markdown",
   "id": "a4a291da",
   "metadata": {},
   "source": [
    "Increment the price of Electric cars by 10000"
   ]
  },
  {
   "cell_type": "code",
   "execution_count": 43,
   "id": "c1c8dc8e",
   "metadata": {},
   "outputs": [
    {
     "data": {
      "text/plain": [
       "UpdateResult({'n': 6, 'nModified': 6, 'ok': 1.0, 'updatedExisting': True}, acknowledged=True)"
      ]
     },
     "execution_count": 43,
     "metadata": {},
     "output_type": "execute_result"
    }
   ],
   "source": [
    "cols.update_many({\"Fuel\":\"Electric\"},{\"$inc\":{\"Price\":10000}})"
   ]
  },
  {
   "cell_type": "markdown",
   "id": "4abe199a",
   "metadata": {},
   "source": [
    "Count and Display total number of cars in the collection"
   ]
  },
  {
   "cell_type": "code",
   "execution_count": 1,
   "id": "af896df0",
   "metadata": {},
   "outputs": [
    {
     "name": "stdout",
     "output_type": "stream",
     "text": [
      "total Number of cars in the collection are : 45\n"
     ]
    }
   ],
   "source": [
    "var=cols.count_documents({})\n",
    "print(\"total Number of cars in the collection are :\",var)"
   ]
  },
  {
   "cell_type": "markdown",
   "id": "1269905e",
   "metadata": {},
   "source": [
    "Count and Display the sum of prices of A-Class and S-Class"
   ]
  },
  {
   "cell_type": "code",
   "execution_count": 10,
   "id": "375f7cd0",
   "metadata": {},
   "outputs": [
    {
     "name": "stdout",
     "output_type": "stream",
     "text": [
      "Total price of all A-Class cars: 3130000\n",
      "Total price of all S-Class cars: 6585000\n"
     ]
    }
   ],
   "source": [
    "sum1=0\n",
    "var1=cols.find({\"Model\":\"A-Class\"},{})\n",
    "for i in var1:\n",
    "    sum1+=i[\"Price\"]\n",
    "print(\"Total price of all A-Class cars:\", sum1)\n",
    "\n",
    "sum2=0\n",
    "var2=cols.find({\"Model\":\"S-Class\"},{})\n",
    "for i in var2:\n",
    "    sum2+=i[\"Price\"]\n",
    "print(\"Total price of all S-Class cars:\", sum2)"
   ]
  }
 ],
 "metadata": {
  "kernelspec": {
   "display_name": "base",
   "language": "python",
   "name": "python3"
  },
  "language_info": {
   "codemirror_mode": {
    "name": "ipython",
    "version": 3
   },
   "file_extension": ".py",
   "mimetype": "text/x-python",
   "name": "python",
   "nbconvert_exporter": "python",
   "pygments_lexer": "ipython3",
   "version": "3.12.7"
  }
 },
 "nbformat": 4,
 "nbformat_minor": 5
}
