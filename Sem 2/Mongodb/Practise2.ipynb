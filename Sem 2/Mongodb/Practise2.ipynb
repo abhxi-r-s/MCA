{
 "cells": [
  {
   "cell_type": "code",
   "execution_count": 2,
   "id": "1b168dfe",
   "metadata": {},
   "outputs": [],
   "source": [
    "import pymongo\n",
    "conn=pymongo.MongoClient(\"mongodb://localhost:27017/\")\n",
    "db=conn[\"BMW\"]\n",
    "cols=db[\"CARS\"]"
   ]
  },
  {
   "cell_type": "code",
   "execution_count": 19,
   "id": "9b78b091",
   "metadata": {},
   "outputs": [],
   "source": [
    "values = [\n",
    "    {\"Model\": \"530i\", \"Year\": 2010, \"Transmission\": \"Manual\", \"Fuel\": \"Petrol\", \"Price\": 700000, \"Mileage\": {\"Old\": 12, \"New\": 15}, \"Status\": \"Available\"},\n",
    "    {\"Model\": \"320d\", \"Year\": 2015, \"Transmission\": \"Automatic\", \"Fuel\": \"Diesel\", \"Price\": 950000, \"Mileage\": {\"Old\": 16, \"New\": 19}, \"Status\": \"Sold\"},\n",
    "    {\"Model\": \"X5\", \"Year\": 2018, \"Transmission\": \"Automatic\", \"Fuel\": \"Diesel\", \"Price\": 3000000, \"Mileage\": {\"Old\": 10, \"New\": 13}, \"Status\": \"Available\"},\n",
    "    {\"Model\": \"X1\", \"Year\": 2020, \"Transmission\": \"Automatic\", \"Fuel\": \"Petrol\", \"Price\": 2500000, \"Mileage\": {\"Old\": 14, \"New\": 18}, \"Status\": \"Available\"},\n",
    "    {\"Model\": \"M3\", \"Year\": 2016, \"Transmission\": \"Manual\", \"Fuel\": \"Petrol\", \"Price\": 4200000, \"Mileage\": {\"Old\": 8, \"New\": 10}, \"Status\": \"Sold\"},\n",
    "    {\"Model\": \"740Li\", \"Year\": 2019, \"Transmission\": \"Automatic\", \"Fuel\": \"Petrol\", \"Price\": 5800000, \"Mileage\": {\"Old\": 7, \"New\": 10}, \"Status\": \"Available\"},\n",
    "    {\"Model\": \"X3\", \"Year\": 2017, \"Transmission\": \"Automatic\", \"Fuel\": \"Diesel\", \"Price\": 2800000, \"Mileage\": {\"Old\": 13, \"New\": 16}, \"Status\": \"Sold\"},\n",
    "    {\"Model\": \"Z4\", \"Year\": 2014, \"Transmission\": \"Manual\", \"Fuel\": \"Petrol\", \"Price\": 3200000, \"Mileage\": {\"Old\": 9, \"New\": 12}, \"Status\": \"Available\"},\n",
    "    {\"Model\": \"X6\", \"Year\": 2021, \"Transmission\": \"Automatic\", \"Fuel\": \"Diesel\", \"Price\": 6500000, \"Mileage\": {\"Old\": 11, \"New\": 14}, \"Status\": \"Available\"},\n",
    "    {\"Model\": \"530d\", \"Year\": 2013, \"Transmission\": \"Manual\", \"Fuel\": \"Diesel\", \"Price\": 1800000, \"Mileage\": {\"Old\": 13, \"New\": 16}, \"Status\": \"Sold\"},\n",
    "    {\"Model\": \"320i\", \"Year\": 2011, \"Transmission\": \"Manual\", \"Fuel\": \"Petrol\", \"Price\": 750000, \"Mileage\": {\"Old\": 12, \"New\": 15}, \"Status\": \"Available\"},\n",
    "    {\"Model\": \"M5\", \"Year\": 2017, \"Transmission\": \"Automatic\", \"Fuel\": \"Petrol\", \"Price\": 5800000, \"Mileage\": {\"Old\": 7, \"New\": 9}, \"Status\": \"Sold\"},\n",
    "    {\"Model\": \"X7\", \"Year\": 2022, \"Transmission\": \"Automatic\", \"Fuel\": \"Diesel\", \"Price\": 9800000, \"Mileage\": {\"Old\": 10, \"New\": 13}, \"Status\": \"Available\"},\n",
    "    {\"Model\": \"118d\", \"Year\": 2012, \"Transmission\": \"Manual\", \"Fuel\": \"Diesel\", \"Price\": 890000, \"Mileage\": {\"Old\": 17, \"New\": 20}, \"Status\": \"Sold\"},\n",
    "    {\"Model\": \"i8\", \"Year\": 2019, \"Transmission\": \"Automatic\", \"Fuel\": \"Hybrid\", \"Price\": 9000000, \"Mileage\": {\"Old\": 14, \"New\": 17}, \"Status\": \"Available\"},\n",
    "    {\"Model\": \"X2\", \"Year\": 2021, \"Transmission\": \"Automatic\", \"Fuel\": \"Petrol\", \"Price\": 3200000, \"Mileage\": {\"Old\": 15, \"New\": 18}, \"Status\": \"Available\"},\n",
    "    {\"Model\": \"M4\", \"Year\": 2018, \"Transmission\": \"Manual\", \"Fuel\": \"Petrol\", \"Price\": 4500000, \"Mileage\": {\"Old\": 9, \"New\": 11}, \"Status\": \"Sold\"},\n",
    "    {\"Model\": \"525d\", \"Year\": 2014, \"Transmission\": \"Manual\", \"Fuel\": \"Diesel\", \"Price\": 2000000, \"Mileage\": {\"Old\": 14, \"New\": 17}, \"Status\": \"Available\"},\n",
    "    {\"Model\": \"X4\", \"Year\": 2020, \"Transmission\": \"Automatic\", \"Fuel\": \"Diesel\", \"Price\": 4200000, \"Mileage\": {\"Old\": 13, \"New\": 16}, \"Status\": \"Available\"},\n",
    "    {\"Model\": \"316i\", \"Year\": 2010, \"Transmission\": \"Manual\", \"Fuel\": \"Petrol\", \"Price\": 600000, \"Mileage\": {\"Old\": 11, \"New\": 14}, \"Status\": \"Sold\"},\n",
    "    {\"Model\": \"730Ld\", \"Year\": 2016, \"Transmission\": \"Automatic\", \"Fuel\": \"Diesel\", \"Price\": 5000000, \"Mileage\": {\"Old\": 11, \"New\": 14}, \"Status\": \"Available\"},\n",
    "    {\"Model\": \"X1\", \"Year\": 2018, \"Transmission\": \"Manual\", \"Fuel\": \"Petrol\", \"Price\": 2200000, \"Mileage\": {\"Old\": 13, \"New\": 16}, \"Status\": \"Sold\"},\n",
    "    {\"Model\": \"Z3\", \"Year\": 2009, \"Transmission\": \"Manual\", \"Fuel\": \"Petrol\", \"Price\": 450000, \"Mileage\": {\"Old\": 10, \"New\": 12}, \"Status\": \"Available\"},\n",
    "    {\"Model\": \"525i\", \"Year\": 2011, \"Transmission\": \"Manual\", \"Fuel\": \"Petrol\", \"Price\": 1000000, \"Mileage\": {\"Old\": 12, \"New\": 14}, \"Status\": \"Sold\"},\n",
    "    {\"Model\": \"i3\", \"Year\": 2020, \"Transmission\": \"Automatic\", \"Fuel\": \"Electric\", \"Price\": 3500000, \"Mileage\": {\"Old\": 0, \"New\": 200}, \"Status\": \"Available\"},\n",
    "    {\"Model\": \"M2\", \"Year\": 2017, \"Transmission\": \"Manual\", \"Fuel\": \"Petrol\", \"Price\": 3800000, \"Mileage\": {\"Old\": 9, \"New\": 11}, \"Status\": \"Available\"},\n",
    "    {\"Model\": \"X5\", \"Year\": 2021, \"Transmission\": \"Automatic\", \"Fuel\": \"Diesel\", \"Price\": 6000000, \"Mileage\": {\"Old\": 12, \"New\": 15}, \"Status\": \"Available\"},\n",
    "    {\"Model\": \"320d\", \"Year\": 2013, \"Transmission\": \"Manual\", \"Fuel\": \"Diesel\", \"Price\": 1500000, \"Mileage\": {\"Old\": 15, \"New\": 18}, \"Status\": \"Sold\"},\n",
    "    {\"Model\": \"Z4\", \"Year\": 2015, \"Transmission\": \"Automatic\", \"Fuel\": \"Petrol\", \"Price\": 2800000, \"Mileage\": {\"Old\": 10, \"New\": 13}, \"Status\": \"Available\"},\n",
    "    {\"Model\": \"M6\", \"Year\": 2014, \"Transmission\": \"Automatic\", \"Fuel\": \"Petrol\", \"Price\": 5600000, \"Mileage\": {\"Old\": 8, \"New\": 10}, \"Status\": \"Sold\"},\n",
    "    {\"Model\": \"118i\", \"Year\": 2013, \"Transmission\": \"Manual\", \"Fuel\": \"Petrol\", \"Price\": 950000, \"Mileage\": {\"Old\": 15, \"New\": 18}, \"Status\": \"Available\"},\n",
    "    {\"Model\": \"X6\", \"Year\": 2022, \"Transmission\": \"Automatic\", \"Fuel\": \"Diesel\", \"Price\": 7200000, \"Mileage\": {\"Old\": 11, \"New\": 14}, \"Status\": \"Available\"},\n",
    "    {\"Model\": \"750Li\", \"Year\": 2018, \"Transmission\": \"Automatic\", \"Fuel\": \"Petrol\", \"Price\": 8400000, \"Mileage\": {\"Old\": 9, \"New\": 12}, \"Status\": \"Sold\"},\n",
    "    {\"Model\": \"X3\", \"Year\": 2016, \"Transmission\": \"Automatic\", \"Fuel\": \"Diesel\", \"Price\": 2600000, \"Mileage\": {\"Old\": 13, \"New\": 15}, \"Status\": \"Available\"},\n",
    "    {\"Model\": \"530e\", \"Year\": 2021, \"Transmission\": \"Automatic\", \"Fuel\": \"Hybrid\", \"Price\": 4800000, \"Mileage\": {\"Old\": 18, \"New\": 21}, \"Status\": \"Available\"},\n",
    "    {\"Model\": \"Z4\", \"Year\": 2011, \"Transmission\": \"Manual\", \"Fuel\": \"Petrol\", \"Price\": 2400000, \"Mileage\": {\"Old\": 11, \"New\": 13}, \"Status\": \"Sold\"},\n",
    "    {\"Model\": \"320i\", \"Year\": 2015, \"Transmission\": \"Automatic\", \"Fuel\": \"Petrol\", \"Price\": 1800000, \"Mileage\": {\"Old\": 13, \"New\": 16}, \"Status\": \"Available\"},\n",
    "    {\"Model\": \"M3\", \"Year\": 2020, \"Transmission\": \"Automatic\", \"Fuel\": \"Petrol\", \"Price\": 6200000, \"Mileage\": {\"Old\": 9, \"New\": 11}, \"Status\": \"Sold\"},\n",
    "    {\"Model\": \"X1\", \"Year\": 2014, \"Transmission\": \"Manual\", \"Fuel\": \"Diesel\", \"Price\": 1400000, \"Mileage\": {\"Old\": 15, \"New\": 18}, \"Status\": \"Available\"},\n",
    "    {\"Model\": \"118d\", \"Year\": 2016, \"Transmission\": \"Manual\", \"Fuel\": \"Diesel\", \"Price\": 1300000, \"Mileage\": {\"Old\": 16, \"New\": 19}, \"Status\": \"Sold\"},\n",
    "    {\"Model\": \"X7\", \"Year\": 2023, \"Transmission\": \"Automatic\", \"Fuel\": \"Diesel\", \"Price\": 10500000, \"Mileage\": {\"Old\": 10, \"New\": 13}, \"Status\": \"Available\"},\n",
    "    {\"Model\": \"iX\", \"Year\": 2022, \"Transmission\": \"Automatic\", \"Fuel\": \"Electric\", \"Price\": 11000000, \"Mileage\": {\"Old\": 0, \"New\": 390}, \"Status\": \"Available\"},\n",
    "    {\"Model\": \"M8\", \"Year\": 2021, \"Transmission\": \"Automatic\", \"Fuel\": \"Petrol\", \"Price\": 9500000, \"Mileage\": {\"Old\": 8, \"New\": 11}, \"Status\": \"Sold\"},\n",
    "    {\"Model\": \"Z8\", \"Year\": 2008, \"Transmission\": \"Manual\", \"Fuel\": \"Petrol\", \"Price\": 2000000, \"Mileage\": {\"Old\": 9, \"New\": 11}, \"Status\": \"Available\"},\n",
    "    {\"Model\": \"730i\", \"Year\": 2013, \"Transmission\": \"Automatic\", \"Fuel\": \"Petrol\", \"Price\": 3600000, \"Mileage\": {\"Old\": 10, \"New\": 13}, \"Status\": \"Sold\"},\n",
    "    {\"Model\": \"X5\", \"Year\": 2015, \"Transmission\": \"Automatic\", \"Fuel\": \"Diesel\", \"Price\": 3400000, \"Mileage\": {\"Old\": 12, \"New\": 15}, \"Status\": \"Available\"},\n",
    "    {\"Model\": \"330Li\", \"Year\": 2022, \"Transmission\": \"Automatic\", \"Fuel\": \"Petrol\", \"Price\": 4800000, \"Mileage\": {\"Old\": 13, \"New\": 16}, \"Status\": \"Available\"},\n",
    "    {\"Model\": \"M235i\", \"Year\": 2019, \"Transmission\": \"Automatic\", \"Fuel\": \"Petrol\", \"Price\": 4000000, \"Mileage\": {\"Old\": 12, \"New\": 15}, \"Status\": \"Sold\"},\n",
    "    {\"Model\": \"220d\", \"Year\": 2018, \"Transmission\": \"Manual\", \"Fuel\": \"Diesel\", \"Price\": 2400000, \"Mileage\": {\"Old\": 17, \"New\": 20}, \"Status\": \"Available\"}\n",
    "]\n"
   ]
  },
  {
   "cell_type": "code",
   "execution_count": 20,
   "id": "81567f1e",
   "metadata": {},
   "outputs": [
    {
     "data": {
      "text/plain": [
       "InsertManyResult([ObjectId('683d6244a38bd13aea0c0d5c'), ObjectId('683d6244a38bd13aea0c0d5d'), ObjectId('683d6244a38bd13aea0c0d5e'), ObjectId('683d6244a38bd13aea0c0d5f'), ObjectId('683d6244a38bd13aea0c0d60'), ObjectId('683d6244a38bd13aea0c0d61'), ObjectId('683d6244a38bd13aea0c0d62'), ObjectId('683d6244a38bd13aea0c0d63'), ObjectId('683d6244a38bd13aea0c0d64'), ObjectId('683d6244a38bd13aea0c0d65'), ObjectId('683d6244a38bd13aea0c0d66'), ObjectId('683d6244a38bd13aea0c0d67'), ObjectId('683d6244a38bd13aea0c0d68'), ObjectId('683d6244a38bd13aea0c0d69'), ObjectId('683d6244a38bd13aea0c0d6a'), ObjectId('683d6244a38bd13aea0c0d6b'), ObjectId('683d6244a38bd13aea0c0d6c'), ObjectId('683d6244a38bd13aea0c0d6d'), ObjectId('683d6244a38bd13aea0c0d6e'), ObjectId('683d6244a38bd13aea0c0d6f'), ObjectId('683d6244a38bd13aea0c0d70'), ObjectId('683d6244a38bd13aea0c0d71'), ObjectId('683d6244a38bd13aea0c0d72'), ObjectId('683d6244a38bd13aea0c0d73'), ObjectId('683d6244a38bd13aea0c0d74'), ObjectId('683d6244a38bd13aea0c0d75'), ObjectId('683d6244a38bd13aea0c0d76'), ObjectId('683d6244a38bd13aea0c0d77'), ObjectId('683d6244a38bd13aea0c0d78'), ObjectId('683d6244a38bd13aea0c0d79'), ObjectId('683d6244a38bd13aea0c0d7a'), ObjectId('683d6244a38bd13aea0c0d7b'), ObjectId('683d6244a38bd13aea0c0d7c'), ObjectId('683d6244a38bd13aea0c0d7d'), ObjectId('683d6244a38bd13aea0c0d7e'), ObjectId('683d6244a38bd13aea0c0d7f'), ObjectId('683d6244a38bd13aea0c0d80'), ObjectId('683d6244a38bd13aea0c0d81'), ObjectId('683d6244a38bd13aea0c0d82'), ObjectId('683d6244a38bd13aea0c0d83'), ObjectId('683d6244a38bd13aea0c0d84'), ObjectId('683d6244a38bd13aea0c0d85'), ObjectId('683d6244a38bd13aea0c0d86'), ObjectId('683d6244a38bd13aea0c0d87'), ObjectId('683d6244a38bd13aea0c0d88'), ObjectId('683d6244a38bd13aea0c0d89'), ObjectId('683d6244a38bd13aea0c0d8a'), ObjectId('683d6244a38bd13aea0c0d8b'), ObjectId('683d6244a38bd13aea0c0d8c')], acknowledged=True)"
      ]
     },
     "execution_count": 20,
     "metadata": {},
     "output_type": "execute_result"
    }
   ],
   "source": [
    "cols.insert_many(values)"
   ]
  },
  {
   "cell_type": "code",
   "execution_count": 6,
   "id": "e8e74f57",
   "metadata": {},
   "outputs": [
    {
     "name": "stdout",
     "output_type": "stream",
     "text": [
      "{'Model': '530i'}\n",
      "{'Model': '320d'}\n",
      "{'Model': 'X5'}\n",
      "{'Model': 'X3'}\n",
      "{'Model': 'M3'}\n",
      "{'Model': '330i'}\n",
      "{'Model': 'X1'}\n",
      "{'Model': '740Li'}\n",
      "{'Model': '530d'}\n",
      "{'Model': 'X6'}\n",
      "{'Model': 'Z4'}\n",
      "{'Model': 'X7'}\n",
      "{'Model': '318i'}\n",
      "{'Model': 'X1'}\n",
      "{'Model': '530i'}\n",
      "{'Model': '320d'}\n",
      "{'Model': 'X3'}\n",
      "{'Model': 'M5'}\n",
      "{'Model': 'X5'}\n",
      "{'Model': '320i'}\n",
      "{'Model': '520d'}\n",
      "{'Model': 'X4'}\n",
      "{'Model': 'X3'}\n",
      "{'Model': '318d'}\n",
      "{'Model': '520i'}\n",
      "{'Model': '530d'}\n",
      "{'Model': 'M4'}\n",
      "{'Model': 'X1'}\n",
      "{'Model': 'X6'}\n",
      "{'Model': '730Ld'}\n",
      "{'Model': 'X5'}\n",
      "{'Model': '320d'}\n",
      "{'Model': 'Z4'}\n",
      "{'Model': 'X3'}\n",
      "{'Model': 'M2'}\n",
      "{'Model': 'X1'}\n",
      "{'Model': '520d'}\n",
      "{'Model': '328i'}\n",
      "{'Model': 'X5'}\n",
      "{'Model': '530i'}\n",
      "{'Model': 'X4'}\n",
      "{'Model': 'M3'}\n",
      "{'Model': '320i'}\n",
      "{'Model': 'X7'}\n",
      "{'Model': '520i'}\n",
      "{'Model': 'X6'}\n",
      "{'Model': 'X3'}\n",
      "{'Model': '328d'}\n",
      "{'Model': '740Li'}\n",
      "{'Model': 'M4'}\n"
     ]
    }
   ],
   "source": [
    "var=cols.find({},{\"Model\":1,\"_id\":0})\n",
    "for i in var:\n",
    "    print(i)"
   ]
  },
  {
   "cell_type": "code",
   "execution_count": 24,
   "id": "1a5ef5e8",
   "metadata": {},
   "outputs": [
    {
     "name": "stdout",
     "output_type": "stream",
     "text": [
      "{'Model': 'M3', 'Year': 2016, 'Mileage': {'Old': 8, 'New': 10}}\n",
      "{'Model': '730Ld', 'Year': 2016, 'Mileage': {'Old': 11, 'New': 14}}\n",
      "{'Model': 'X3', 'Year': 2016, 'Mileage': {'Old': 13, 'New': 15}}\n",
      "{'Model': '118d', 'Year': 2016, 'Mileage': {'Old': 16, 'New': 19}}\n"
     ]
    }
   ],
   "source": [
    "var=cols.find({\"Year\":2016},{\"_id\":0,\"Model\":1,\"Year\":1,\"Mileage\":1}).sort({\"Mileage.Old\":1})\n",
    "for i in var:\n",
    "    print(i)"
   ]
  },
  {
   "cell_type": "code",
   "execution_count": 25,
   "id": "8e8584ea",
   "metadata": {},
   "outputs": [
    {
     "name": "stdout",
     "output_type": "stream",
     "text": [
      "{'Model': '530i', 'Fuel': 'Petrol'}\n",
      "{'Model': 'X1', 'Fuel': 'Petrol'}\n",
      "{'Model': 'M3', 'Fuel': 'Petrol'}\n",
      "{'Model': '740Li', 'Fuel': 'Petrol'}\n",
      "{'Model': 'Z4', 'Fuel': 'Petrol'}\n",
      "{'Model': '320i', 'Fuel': 'Petrol'}\n",
      "{'Model': 'M5', 'Fuel': 'Petrol'}\n",
      "{'Model': 'X2', 'Fuel': 'Petrol'}\n",
      "{'Model': 'M4', 'Fuel': 'Petrol'}\n",
      "{'Model': '316i', 'Fuel': 'Petrol'}\n",
      "{'Model': 'X1', 'Fuel': 'Petrol'}\n",
      "{'Model': 'Z3', 'Fuel': 'Petrol'}\n",
      "{'Model': '525i', 'Fuel': 'Petrol'}\n",
      "{'Model': 'M2', 'Fuel': 'Petrol'}\n",
      "{'Model': 'Z4', 'Fuel': 'Petrol'}\n",
      "{'Model': 'M6', 'Fuel': 'Petrol'}\n",
      "{'Model': '118i', 'Fuel': 'Petrol'}\n",
      "{'Model': '750Li', 'Fuel': 'Petrol'}\n",
      "{'Model': 'Z4', 'Fuel': 'Petrol'}\n",
      "{'Model': '320i', 'Fuel': 'Petrol'}\n",
      "{'Model': 'M3', 'Fuel': 'Petrol'}\n",
      "{'Model': 'M8', 'Fuel': 'Petrol'}\n",
      "{'Model': 'Z8', 'Fuel': 'Petrol'}\n",
      "{'Model': '730i', 'Fuel': 'Petrol'}\n",
      "{'Model': '330Li', 'Fuel': 'Petrol'}\n",
      "{'Model': 'M235i', 'Fuel': 'Petrol'}\n"
     ]
    }
   ],
   "source": [
    "var=cols.find({\"Fuel\":\"Petrol\"},{\"_id\":0,\"Model\":1,\"Fuel\":1})\n",
    "for i in var:\n",
    "    print(i)"
   ]
  },
  {
   "cell_type": "code",
   "execution_count": 26,
   "id": "a709ddfa",
   "metadata": {},
   "outputs": [
    {
     "name": "stdout",
     "output_type": "stream",
     "text": [
      "{'Model': 'X1', 'Year': 2020, 'Transmission': 'Automatic', 'Fuel': 'Petrol', 'Price': 2500000, 'Mileage': {'Old': 14, 'New': 18}, 'Status': 'Available'}\n",
      "{'Model': 'M3', 'Year': 2020, 'Transmission': 'Automatic', 'Fuel': 'Petrol', 'Price': 6200000, 'Mileage': {'Old': 9, 'New': 11}, 'Status': 'Sold'}\n"
     ]
    }
   ],
   "source": [
    "var=cols.find({\"Fuel\":\"Petrol\",\"Year\":2020},{\"_id\":0})\n",
    "for i in var:\n",
    "    print(i)"
   ]
  },
  {
   "cell_type": "markdown",
   "id": "a40d9d49",
   "metadata": {},
   "source": [
    "Automatic and Mileage greater than 15"
   ]
  },
  {
   "cell_type": "code",
   "execution_count": 27,
   "id": "fb76ab43",
   "metadata": {},
   "outputs": [
    {
     "name": "stdout",
     "output_type": "stream",
     "text": [
      "{'Model': '320d', 'Transmission': 'Automatic', 'Mileage': {'Old': 16, 'New': 19}}\n",
      "{'Model': '530e', 'Transmission': 'Automatic', 'Mileage': {'Old': 18, 'New': 21}}\n"
     ]
    }
   ],
   "source": [
    "var=cols.find({\"$and\":[{\"Transmission\":\"Automatic\"},{\"Mileage.Old\":{\"$gt\":15}}]},{\"Model\":1,\"Transmission\":1,\"Mileage\":1,\"_id\":0})\n",
    "for i in var:\n",
    "    print(i)"
   ]
  },
  {
   "cell_type": "code",
   "execution_count": 28,
   "id": "2e9d6258",
   "metadata": {},
   "outputs": [
    {
     "data": {
      "text/plain": [
       "UpdateResult({'n': 4, 'nModified': 3, 'ok': 1.0, 'updatedExisting': True}, acknowledged=True)"
      ]
     },
     "execution_count": 28,
     "metadata": {},
     "output_type": "execute_result"
    }
   ],
   "source": [
    "cols.update_many({\"Year\":2020},{\"$set\":{\"Status\":\"Sold\"}})"
   ]
  },
  {
   "cell_type": "code",
   "execution_count": 30,
   "id": "133dcf05",
   "metadata": {},
   "outputs": [
    {
     "data": {
      "text/plain": [
       "UpdateResult({'n': 2, 'nModified': 2, 'ok': 1.0, 'updatedExisting': True}, acknowledged=True)"
      ]
     },
     "execution_count": 30,
     "metadata": {},
     "output_type": "execute_result"
    }
   ],
   "source": [
    "cols.update_many({\"$and\":[{\"Year\":2010},{\"Fuel\":\"Petrol\"}]},{\"$inc\":{\"Mileage.New\":-1}})"
   ]
  },
  {
   "cell_type": "code",
   "execution_count": 32,
   "id": "a9e8e2cf",
   "metadata": {},
   "outputs": [
    {
     "name": "stdout",
     "output_type": "stream",
     "text": [
      "{'_id': ObjectId('683d6244a38bd13aea0c0d87'), 'Model': 'Z8', 'Year': 2008, 'Transmission': 'Manual', 'Fuel': 'Petrol', 'Price': 2000000, 'Mileage': {'Old': 9, 'New': 11}, 'Status': 'Available'}\n",
      "{'_id': ObjectId('683d6244a38bd13aea0c0d72'), 'Model': 'Z3', 'Year': 2009, 'Transmission': 'Manual', 'Fuel': 'Petrol', 'Price': 450000, 'Mileage': {'Old': 10, 'New': 12}, 'Status': 'Available'}\n",
      "{'_id': ObjectId('683d6244a38bd13aea0c0d5c'), 'Model': '530i', 'Year': 2010, 'Transmission': 'Manual', 'Fuel': 'Petrol', 'Price': 700000, 'Mileage': {'Old': 12, 'New': 15}, 'Status': 'Available'}\n",
      "{'_id': ObjectId('683d6244a38bd13aea0c0d6f'), 'Model': '316i', 'Year': 2010, 'Transmission': 'Manual', 'Fuel': 'Petrol', 'Price': 600000, 'Mileage': {'Old': 11, 'New': 14}, 'Status': 'Sold'}\n",
      "{'_id': ObjectId('683d6244a38bd13aea0c0d7f'), 'Model': 'Z4', 'Year': 2011, 'Transmission': 'Manual', 'Fuel': 'Petrol', 'Price': 2400000, 'Mileage': {'Old': 11, 'New': 13}, 'Status': 'Sold'}\n",
      "{'_id': ObjectId('683d6244a38bd13aea0c0d66'), 'Model': '320i', 'Year': 2011, 'Transmission': 'Manual', 'Fuel': 'Petrol', 'Price': 750000, 'Mileage': {'Old': 12, 'New': 15}, 'Status': 'Available'}\n",
      "{'_id': ObjectId('683d6244a38bd13aea0c0d73'), 'Model': '525i', 'Year': 2011, 'Transmission': 'Manual', 'Fuel': 'Petrol', 'Price': 1000000, 'Mileage': {'Old': 12, 'New': 14}, 'Status': 'Sold'}\n",
      "{'_id': ObjectId('683d6244a38bd13aea0c0d69'), 'Model': '118d', 'Year': 2012, 'Transmission': 'Manual', 'Fuel': 'Diesel', 'Price': 890000, 'Mileage': {'Old': 17, 'New': 20}, 'Status': 'Sold'}\n",
      "{'_id': ObjectId('683d6244a38bd13aea0c0d7a'), 'Model': '118i', 'Year': 2013, 'Transmission': 'Manual', 'Fuel': 'Petrol', 'Price': 950000, 'Mileage': {'Old': 15, 'New': 18}, 'Status': 'Available'}\n",
      "{'_id': ObjectId('683d6244a38bd13aea0c0d77'), 'Model': '320d', 'Year': 2013, 'Transmission': 'Manual', 'Fuel': 'Diesel', 'Price': 1500000, 'Mileage': {'Old': 15, 'New': 18}, 'Status': 'Sold'}\n"
     ]
    }
   ],
   "source": [
    "var=cols.find({},{}).sort({\"Year\":1}).limit(10)\n",
    "for i in var:\n",
    "    print(i)"
   ]
  },
  {
   "cell_type": "code",
   "execution_count": 36,
   "id": "ed64b427",
   "metadata": {},
   "outputs": [
    {
     "name": "stdout",
     "output_type": "stream",
     "text": [
      "{'Mileage': {'Old': 17}}\n",
      "{'Mileage': {'Old': 18}}\n",
      "{'Mileage': {'Old': 17}}\n"
     ]
    }
   ],
   "source": [
    "var=cols.find({\"Mileage.Old\":{\"$gt\":16}},{\"_id\":0,\"Mileage.Old\":1})\n",
    "for i in var:\n",
    "    print(i)"
   ]
  },
  {
   "cell_type": "code",
   "execution_count": 37,
   "id": "665815c3",
   "metadata": {},
   "outputs": [
    {
     "name": "stdout",
     "output_type": "stream",
     "text": [
      "3\n"
     ]
    }
   ],
   "source": [
    "var=cols.count_documents({\"Mileage.Old\":{\"$gt\":16}})\n",
    "print(var)"
   ]
  },
  {
   "cell_type": "code",
   "execution_count": 38,
   "id": "dcccc220",
   "metadata": {},
   "outputs": [
    {
     "data": {
      "text/plain": [
       "DeleteResult({'n': 4, 'ok': 1.0}, acknowledged=True)"
      ]
     },
     "execution_count": 38,
     "metadata": {},
     "output_type": "execute_result"
    }
   ],
   "source": [
    "cols.delete_many({\"Year\":2020})"
   ]
  },
  {
   "cell_type": "code",
   "execution_count": 42,
   "id": "29056bd7",
   "metadata": {},
   "outputs": [
    {
     "name": "stdout",
     "output_type": "stream",
     "text": [
      "{'_id': ObjectId('683d6244a38bd13aea0c0d60'), 'Model': 'M3', 'Year': 2016, 'Transmission': 'Manual', 'Fuel': 'Petrol', 'Price': 4200000, 'Mileage': {'Old': 8, 'New': 10}, 'Status': 'Sold'}\n",
      "{'_id': ObjectId('683d6244a38bd13aea0c0d62'), 'Model': 'X3', 'Year': 2017, 'Transmission': 'Automatic', 'Fuel': 'Diesel', 'Price': 2800000, 'Mileage': {'Old': 13, 'New': 16}, 'Status': 'Sold'}\n",
      "{'_id': ObjectId('683d6244a38bd13aea0c0d72'), 'Model': 'Z3', 'Year': 2009, 'Transmission': 'Manual', 'Fuel': 'Petrol', 'Price': 450000, 'Mileage': {'Old': 10, 'New': 12}, 'Status': 'Available'}\n",
      "{'_id': ObjectId('683d6244a38bd13aea0c0d7d'), 'Model': 'X3', 'Year': 2016, 'Transmission': 'Automatic', 'Fuel': 'Diesel', 'Price': 2600000, 'Mileage': {'Old': 13, 'New': 15}, 'Status': 'Available'}\n"
     ]
    }
   ],
   "source": [
    "var=cols.find({\"Model\":{\"$regex\":\"3$\"}},{})\n",
    "for i in var:\n",
    "    print(i)"
   ]
  },
  {
   "cell_type": "code",
   "execution_count": 43,
   "id": "f09f1a3c",
   "metadata": {},
   "outputs": [
    {
     "name": "stdout",
     "output_type": "stream",
     "text": [
      "{'_id': ObjectId('683d6244a38bd13aea0c0d5d'), 'Model': '320d', 'Year': 2015, 'Transmission': 'Automatic', 'Fuel': 'Diesel', 'Price': 950000, 'Mileage': {'Old': 16, 'New': 19}, 'Status': 'Sold'}\n",
      "{'_id': ObjectId('683d6244a38bd13aea0c0d66'), 'Model': '320i', 'Year': 2011, 'Transmission': 'Manual', 'Fuel': 'Petrol', 'Price': 750000, 'Mileage': {'Old': 12, 'New': 15}, 'Status': 'Available'}\n",
      "{'_id': ObjectId('683d6244a38bd13aea0c0d6f'), 'Model': '316i', 'Year': 2010, 'Transmission': 'Manual', 'Fuel': 'Petrol', 'Price': 600000, 'Mileage': {'Old': 11, 'New': 14}, 'Status': 'Sold'}\n",
      "{'_id': ObjectId('683d6244a38bd13aea0c0d77'), 'Model': '320d', 'Year': 2013, 'Transmission': 'Manual', 'Fuel': 'Diesel', 'Price': 1500000, 'Mileage': {'Old': 15, 'New': 18}, 'Status': 'Sold'}\n",
      "{'_id': ObjectId('683d6244a38bd13aea0c0d80'), 'Model': '320i', 'Year': 2015, 'Transmission': 'Automatic', 'Fuel': 'Petrol', 'Price': 1800000, 'Mileage': {'Old': 13, 'New': 16}, 'Status': 'Available'}\n",
      "{'_id': ObjectId('683d6244a38bd13aea0c0d8a'), 'Model': '330Li', 'Year': 2022, 'Transmission': 'Automatic', 'Fuel': 'Petrol', 'Price': 4800000, 'Mileage': {'Old': 13, 'New': 16}, 'Status': 'Available'}\n"
     ]
    }
   ],
   "source": [
    "var=cols.find({\"Model\":{\"$regex\":\"^3\"}},{})\n",
    "for i in var:\n",
    "    print(i)"
   ]
  },
  {
   "cell_type": "code",
   "execution_count": 51,
   "id": "b8a3111c",
   "metadata": {},
   "outputs": [
    {
     "name": "stdout",
     "output_type": "stream",
     "text": [
      "{'_id': '525d', 'Average': 2000000.0}\n",
      "{'_id': 'M6', 'Average': 5600000.0}\n",
      "{'_id': '118i', 'Average': 950000.0}\n",
      "{'_id': 'M8', 'Average': 9500000.0}\n",
      "{'_id': 'M235i', 'Average': 4000000.0}\n",
      "{'_id': 'M3', 'Average': 4200000.0}\n",
      "{'_id': '320d', 'Average': 1225000.0}\n",
      "{'_id': 'Z3', 'Average': 450000.0}\n",
      "{'_id': 'M4', 'Average': 4500000.0}\n",
      "{'_id': '530i', 'Average': 700000.0}\n",
      "{'_id': '730Ld', 'Average': 5000000.0}\n",
      "{'_id': 'X7', 'Average': 10150000.0}\n",
      "{'_id': 'X5', 'Average': 4133333.3333333335}\n",
      "{'_id': 'X2', 'Average': 3200000.0}\n",
      "{'_id': 'Z8', 'Average': 2000000.0}\n",
      "{'_id': 'Z4', 'Average': 2800000.0}\n",
      "{'_id': 'X1', 'Average': 1800000.0}\n",
      "{'_id': '530d', 'Average': 1800000.0}\n",
      "{'_id': 'X6', 'Average': 6850000.0}\n",
      "{'_id': '220d', 'Average': 2400000.0}\n",
      "{'_id': 'M5', 'Average': 5800000.0}\n",
      "{'_id': '525i', 'Average': 1000000.0}\n",
      "{'_id': '118d', 'Average': 1095000.0}\n",
      "{'_id': 'M2', 'Average': 3800000.0}\n",
      "{'_id': 'iX', 'Average': 11000000.0}\n",
      "{'_id': '740Li', 'Average': 5800000.0}\n",
      "{'_id': '730i', 'Average': 3600000.0}\n",
      "{'_id': '330Li', 'Average': 4800000.0}\n",
      "{'_id': 'i8', 'Average': 9000000.0}\n",
      "{'_id': '530e', 'Average': 4800000.0}\n",
      "{'_id': '750Li', 'Average': 8400000.0}\n",
      "{'_id': '316i', 'Average': 600000.0}\n",
      "{'_id': '320i', 'Average': 1275000.0}\n",
      "{'_id': 'X3', 'Average': 2700000.0}\n"
     ]
    }
   ],
   "source": [
    "var = cols.aggregate([{\"$group\":{\"_id\": \"$Model\",\"Average\": {\"$avg\": \"$Price\"}}}])\n",
    "for i in var:\n",
    "    print(i)\n"
   ]
  },
  {
   "cell_type": "code",
   "execution_count": 60,
   "id": "97eaa439",
   "metadata": {},
   "outputs": [
    {
     "name": "stdout",
     "output_type": "stream",
     "text": [
      "{'_id': 'Petrol', 'Average': 3418750.0}\n",
      "{'_id': 'Diesel', 'Average': 3835555.5555555555}\n",
      "{'_id': 'Hybrid', 'Average': 6900000.0}\n",
      "{'_id': 'Electric', 'Average': 11000000.0}\n"
     ]
    }
   ],
   "source": [
    "var=cols.aggregate([{\"$group\":{\"_id\":\"$Fuel\",\"Average\":{\"$avg\":\"$Price\"}}},{\"$sort\":{\"Average\":1}},{\"$limit\":10}])\n",
    "for i in var:\n",
    "    print(i)"
   ]
  },
  {
   "cell_type": "markdown",
   "id": "9ba3a295",
   "metadata": {},
   "source": [
    "Count  and Display the sum of prices of two models"
   ]
  },
  {
   "cell_type": "code",
   "execution_count": 62,
   "id": "17e392ba",
   "metadata": {},
   "outputs": [
    {
     "name": "stdout",
     "output_type": "stream",
     "text": [
      "{'_id': '118i', 'Average': 950000.0}\n",
      "{'_id': 'M235i', 'Average': 4000000.0}\n",
      "{'_id': 'X3', 'Average': 2700000.0}\n",
      "{'_id': '316i', 'Average': 600000.0}\n",
      "{'_id': '530e', 'Average': 4800000.0}\n",
      "{'_id': '320i', 'Average': 1275000.0}\n",
      "{'_id': '750Li', 'Average': 8400000.0}\n",
      "{'_id': 'i8', 'Average': 9000000.0}\n",
      "{'_id': 'M2', 'Average': 3800000.0}\n",
      "{'_id': 'iX', 'Average': 11000000.0}\n",
      "{'_id': '740Li', 'Average': 5800000.0}\n",
      "{'_id': '730i', 'Average': 3600000.0}\n",
      "{'_id': 'M5', 'Average': 5800000.0}\n",
      "{'_id': '330Li', 'Average': 4800000.0}\n",
      "{'_id': '118d', 'Average': 1095000.0}\n",
      "{'_id': '525i', 'Average': 1000000.0}\n",
      "{'_id': '220d', 'Average': 2400000.0}\n",
      "{'_id': 'X1', 'Average': 1800000.0}\n",
      "{'_id': 'X6', 'Average': 6850000.0}\n",
      "{'_id': '530d', 'Average': 1800000.0}\n",
      "{'_id': 'Z4', 'Average': 2800000.0}\n",
      "{'_id': 'Z8', 'Average': 2000000.0}\n",
      "{'_id': 'X2', 'Average': 3200000.0}\n",
      "{'_id': 'X5', 'Average': 4133333.3333333335}\n",
      "{'_id': 'X7', 'Average': 10150000.0}\n",
      "{'_id': '530i', 'Average': 700000.0}\n",
      "{'_id': '320d', 'Average': 1225000.0}\n",
      "{'_id': 'Z3', 'Average': 450000.0}\n",
      "{'_id': 'M4', 'Average': 4500000.0}\n",
      "{'_id': '730Ld', 'Average': 5000000.0}\n",
      "{'_id': 'M3', 'Average': 4200000.0}\n",
      "{'_id': 'M8', 'Average': 9500000.0}\n",
      "{'_id': '525d', 'Average': 2000000.0}\n",
      "{'_id': 'M6', 'Average': 5600000.0}\n"
     ]
    }
   ],
   "source": [
    "var = cols.aggregate([{\"$group\":{\"_id\":\"$Model\",\"Average\":{\"$avg\":\"$Price\"}}}])\n",
    "for i in var:\n",
    "    print(i)"
   ]
  },
  {
   "cell_type": "code",
   "execution_count": null,
   "id": "e951e56e",
   "metadata": {},
   "outputs": [],
   "source": [
    "var=cols.find({\"Mileage\":{\"$lt\":2}},{}).sort({\"Mileage\":1}).limit(5)"
   ]
  },
  {
   "cell_type": "code",
   "execution_count": 68,
   "id": "e091cabe",
   "metadata": {},
   "outputs": [
    {
     "name": "stdout",
     "output_type": "stream",
     "text": [
      "{'Mileage': {'Old': 18, 'New': 21}}\n",
      "{'Mileage': {'Old': 17, 'New': 20}}\n",
      "{'Mileage': {'Old': 17, 'New': 20}}\n",
      "{'Mileage': {'Old': 16, 'New': 19}}\n",
      "{'Mileage': {'Old': 16, 'New': 19}}\n",
      "{'Mileage': {'Old': 15, 'New': 18}}\n",
      "{'Mileage': {'Old': 15, 'New': 18}}\n",
      "{'Mileage': {'Old': 15, 'New': 18}}\n",
      "{'Mileage': {'Old': 15, 'New': 18}}\n",
      "{'Mileage': {'Old': 14, 'New': 17}}\n",
      "{'Mileage': {'Old': 14, 'New': 17}}\n",
      "{'Mileage': {'Old': 13, 'New': 16}}\n",
      "{'Mileage': {'Old': 13, 'New': 16}}\n",
      "{'Mileage': {'Old': 13, 'New': 16}}\n",
      "{'Mileage': {'Old': 13, 'New': 16}}\n",
      "{'Mileage': {'Old': 13, 'New': 16}}\n",
      "{'Mileage': {'Old': 13, 'New': 15}}\n",
      "{'Mileage': {'Old': 12, 'New': 15}}\n",
      "{'Mileage': {'Old': 12, 'New': 15}}\n",
      "{'Mileage': {'Old': 12, 'New': 15}}\n"
     ]
    }
   ],
   "source": [
    "var=cols.find({\"Mileage.New\":{\"$gt\":10}},{\"_id\":0,\"Mileage\":1}).sort({\"Mileage\":-1}).limit(20)\n",
    "for i in var:\n",
    "    print(i)"
   ]
  },
  {
   "cell_type": "code",
   "execution_count": 70,
   "id": "fa85679a",
   "metadata": {},
   "outputs": [
    {
     "name": "stdout",
     "output_type": "stream",
     "text": [
      "{'_id': ObjectId('683d6244a38bd13aea0c0d5c'), 'Model': '530i', 'Year': 2010, 'Transmission': 'Manual', 'Fuel': 'Petrol', 'Price': 700000, 'Mileage': {'Old': 12, 'New': 15}, 'Status': 'Available'}\n",
      "{'_id': ObjectId('683d6244a38bd13aea0c0d5d'), 'Model': '320d', 'Year': 2015, 'Transmission': 'Automatic', 'Fuel': 'Diesel', 'Price': 950000, 'Mileage': {'Old': 16, 'New': 19}, 'Status': 'Sold'}\n",
      "{'_id': ObjectId('683d6244a38bd13aea0c0d5e'), 'Model': 'X5', 'Year': 2018, 'Transmission': 'Automatic', 'Fuel': 'Diesel', 'Price': 3000000, 'Mileage': {'Old': 10, 'New': 13}, 'Status': 'Available'}\n",
      "{'_id': ObjectId('683d6244a38bd13aea0c0d60'), 'Model': 'M3', 'Year': 2016, 'Transmission': 'Manual', 'Fuel': 'Petrol', 'Price': 4200000, 'Mileage': {'Old': 8, 'New': 10}, 'Status': 'Sold'}\n",
      "{'_id': ObjectId('683d6244a38bd13aea0c0d61'), 'Model': '740Li', 'Year': 2019, 'Transmission': 'Automatic', 'Fuel': 'Petrol', 'Price': 5800000, 'Mileage': {'Old': 7, 'New': 10}, 'Status': 'Available'}\n",
      "{'_id': ObjectId('683d6244a38bd13aea0c0d62'), 'Model': 'X3', 'Year': 2017, 'Transmission': 'Automatic', 'Fuel': 'Diesel', 'Price': 2800000, 'Mileage': {'Old': 13, 'New': 16}, 'Status': 'Sold'}\n",
      "{'_id': ObjectId('683d6244a38bd13aea0c0d63'), 'Model': 'Z4', 'Year': 2014, 'Transmission': 'Manual', 'Fuel': 'Petrol', 'Price': 3200000, 'Mileage': {'Old': 9, 'New': 12}, 'Status': 'Available'}\n",
      "{'_id': ObjectId('683d6244a38bd13aea0c0d64'), 'Model': 'X6', 'Year': 2021, 'Transmission': 'Automatic', 'Fuel': 'Diesel', 'Price': 6500000, 'Mileage': {'Old': 11, 'New': 14}, 'Status': 'Available'}\n",
      "{'_id': ObjectId('683d6244a38bd13aea0c0d65'), 'Model': '530d', 'Year': 2013, 'Transmission': 'Manual', 'Fuel': 'Diesel', 'Price': 1800000, 'Mileage': {'Old': 13, 'New': 16}, 'Status': 'Sold'}\n",
      "{'_id': ObjectId('683d6244a38bd13aea0c0d66'), 'Model': '320i', 'Year': 2011, 'Transmission': 'Manual', 'Fuel': 'Petrol', 'Price': 750000, 'Mileage': {'Old': 12, 'New': 15}, 'Status': 'Available'}\n",
      "{'_id': ObjectId('683d6244a38bd13aea0c0d67'), 'Model': 'M5', 'Year': 2017, 'Transmission': 'Automatic', 'Fuel': 'Petrol', 'Price': 5800000, 'Mileage': {'Old': 7, 'New': 9}, 'Status': 'Sold'}\n",
      "{'_id': ObjectId('683d6244a38bd13aea0c0d68'), 'Model': 'X7', 'Year': 2022, 'Transmission': 'Automatic', 'Fuel': 'Diesel', 'Price': 9800000, 'Mileage': {'Old': 10, 'New': 13}, 'Status': 'Available'}\n",
      "{'_id': ObjectId('683d6244a38bd13aea0c0d69'), 'Model': '118d', 'Year': 2012, 'Transmission': 'Manual', 'Fuel': 'Diesel', 'Price': 890000, 'Mileage': {'Old': 17, 'New': 20}, 'Status': 'Sold'}\n",
      "{'_id': ObjectId('683d6244a38bd13aea0c0d6a'), 'Model': 'i8', 'Year': 2019, 'Transmission': 'Automatic', 'Fuel': 'Hybrid', 'Price': 9000000, 'Mileage': {'Old': 14, 'New': 17}, 'Status': 'Available'}\n",
      "{'_id': ObjectId('683d6244a38bd13aea0c0d6b'), 'Model': 'X2', 'Year': 2021, 'Transmission': 'Automatic', 'Fuel': 'Petrol', 'Price': 3200000, 'Mileage': {'Old': 15, 'New': 18}, 'Status': 'Available'}\n",
      "{'_id': ObjectId('683d6244a38bd13aea0c0d6c'), 'Model': 'M4', 'Year': 2018, 'Transmission': 'Manual', 'Fuel': 'Petrol', 'Price': 4500000, 'Mileage': {'Old': 9, 'New': 11}, 'Status': 'Sold'}\n",
      "{'_id': ObjectId('683d6244a38bd13aea0c0d6d'), 'Model': '525d', 'Year': 2014, 'Transmission': 'Manual', 'Fuel': 'Diesel', 'Price': 2000000, 'Mileage': {'Old': 14, 'New': 17}, 'Status': 'Available'}\n",
      "{'_id': ObjectId('683d6244a38bd13aea0c0d6f'), 'Model': '316i', 'Year': 2010, 'Transmission': 'Manual', 'Fuel': 'Petrol', 'Price': 600000, 'Mileage': {'Old': 11, 'New': 14}, 'Status': 'Sold'}\n",
      "{'_id': ObjectId('683d6244a38bd13aea0c0d70'), 'Model': '730Ld', 'Year': 2016, 'Transmission': 'Automatic', 'Fuel': 'Diesel', 'Price': 5000000, 'Mileage': {'Old': 11, 'New': 14}, 'Status': 'Available'}\n",
      "{'_id': ObjectId('683d6244a38bd13aea0c0d71'), 'Model': 'X1', 'Year': 2018, 'Transmission': 'Manual', 'Fuel': 'Petrol', 'Price': 2200000, 'Mileage': {'Old': 13, 'New': 16}, 'Status': 'Sold'}\n",
      "{'_id': ObjectId('683d6244a38bd13aea0c0d72'), 'Model': 'Z3', 'Year': 2009, 'Transmission': 'Manual', 'Fuel': 'Petrol', 'Price': 450000, 'Mileage': {'Old': 10, 'New': 12}, 'Status': 'Available'}\n",
      "{'_id': ObjectId('683d6244a38bd13aea0c0d73'), 'Model': '525i', 'Year': 2011, 'Transmission': 'Manual', 'Fuel': 'Petrol', 'Price': 1000000, 'Mileage': {'Old': 12, 'New': 14}, 'Status': 'Sold'}\n",
      "{'_id': ObjectId('683d6244a38bd13aea0c0d75'), 'Model': 'M2', 'Year': 2017, 'Transmission': 'Manual', 'Fuel': 'Petrol', 'Price': 3800000, 'Mileage': {'Old': 9, 'New': 11}, 'Status': 'Available'}\n",
      "{'_id': ObjectId('683d6244a38bd13aea0c0d76'), 'Model': 'X5', 'Year': 2021, 'Transmission': 'Automatic', 'Fuel': 'Diesel', 'Price': 6000000, 'Mileage': {'Old': 12, 'New': 15}, 'Status': 'Available'}\n",
      "{'_id': ObjectId('683d6244a38bd13aea0c0d77'), 'Model': '320d', 'Year': 2013, 'Transmission': 'Manual', 'Fuel': 'Diesel', 'Price': 1500000, 'Mileage': {'Old': 15, 'New': 18}, 'Status': 'Sold'}\n",
      "{'_id': ObjectId('683d6244a38bd13aea0c0d78'), 'Model': 'Z4', 'Year': 2015, 'Transmission': 'Automatic', 'Fuel': 'Petrol', 'Price': 2800000, 'Mileage': {'Old': 10, 'New': 13}, 'Status': 'Available'}\n",
      "{'_id': ObjectId('683d6244a38bd13aea0c0d79'), 'Model': 'M6', 'Year': 2014, 'Transmission': 'Automatic', 'Fuel': 'Petrol', 'Price': 5600000, 'Mileage': {'Old': 8, 'New': 10}, 'Status': 'Sold'}\n",
      "{'_id': ObjectId('683d6244a38bd13aea0c0d7a'), 'Model': '118i', 'Year': 2013, 'Transmission': 'Manual', 'Fuel': 'Petrol', 'Price': 950000, 'Mileage': {'Old': 15, 'New': 18}, 'Status': 'Available'}\n",
      "{'_id': ObjectId('683d6244a38bd13aea0c0d7b'), 'Model': 'X6', 'Year': 2022, 'Transmission': 'Automatic', 'Fuel': 'Diesel', 'Price': 7200000, 'Mileage': {'Old': 11, 'New': 14}, 'Status': 'Available'}\n",
      "{'_id': ObjectId('683d6244a38bd13aea0c0d7c'), 'Model': '750Li', 'Year': 2018, 'Transmission': 'Automatic', 'Fuel': 'Petrol', 'Price': 8400000, 'Mileage': {'Old': 9, 'New': 12}, 'Status': 'Sold'}\n",
      "{'_id': ObjectId('683d6244a38bd13aea0c0d7d'), 'Model': 'X3', 'Year': 2016, 'Transmission': 'Automatic', 'Fuel': 'Diesel', 'Price': 2600000, 'Mileage': {'Old': 13, 'New': 15}, 'Status': 'Available'}\n",
      "{'_id': ObjectId('683d6244a38bd13aea0c0d7e'), 'Model': '530e', 'Year': 2021, 'Transmission': 'Automatic', 'Fuel': 'Hybrid', 'Price': 4800000, 'Mileage': {'Old': 18, 'New': 21}, 'Status': 'Available'}\n",
      "{'_id': ObjectId('683d6244a38bd13aea0c0d7f'), 'Model': 'Z4', 'Year': 2011, 'Transmission': 'Manual', 'Fuel': 'Petrol', 'Price': 2400000, 'Mileage': {'Old': 11, 'New': 13}, 'Status': 'Sold'}\n",
      "{'_id': ObjectId('683d6244a38bd13aea0c0d80'), 'Model': '320i', 'Year': 2015, 'Transmission': 'Automatic', 'Fuel': 'Petrol', 'Price': 1800000, 'Mileage': {'Old': 13, 'New': 16}, 'Status': 'Available'}\n",
      "{'_id': ObjectId('683d6244a38bd13aea0c0d82'), 'Model': 'X1', 'Year': 2014, 'Transmission': 'Manual', 'Fuel': 'Diesel', 'Price': 1400000, 'Mileage': {'Old': 15, 'New': 18}, 'Status': 'Available'}\n",
      "{'_id': ObjectId('683d6244a38bd13aea0c0d83'), 'Model': '118d', 'Year': 2016, 'Transmission': 'Manual', 'Fuel': 'Diesel', 'Price': 1300000, 'Mileage': {'Old': 16, 'New': 19}, 'Status': 'Sold'}\n",
      "{'_id': ObjectId('683d6244a38bd13aea0c0d84'), 'Model': 'X7', 'Year': 2023, 'Transmission': 'Automatic', 'Fuel': 'Diesel', 'Price': 10500000, 'Mileage': {'Old': 10, 'New': 13}, 'Status': 'Available'}\n",
      "{'_id': ObjectId('683d6244a38bd13aea0c0d85'), 'Model': 'iX', 'Year': 2022, 'Transmission': 'Automatic', 'Fuel': 'Electric', 'Price': 11000000, 'Mileage': {'Old': 0, 'New': 390}, 'Status': 'Available'}\n",
      "{'_id': ObjectId('683d6244a38bd13aea0c0d86'), 'Model': 'M8', 'Year': 2021, 'Transmission': 'Automatic', 'Fuel': 'Petrol', 'Price': 9500000, 'Mileage': {'Old': 8, 'New': 11}, 'Status': 'Sold'}\n",
      "{'_id': ObjectId('683d6244a38bd13aea0c0d87'), 'Model': 'Z8', 'Year': 2008, 'Transmission': 'Manual', 'Fuel': 'Petrol', 'Price': 2000000, 'Mileage': {'Old': 9, 'New': 11}, 'Status': 'Available'}\n",
      "{'_id': ObjectId('683d6244a38bd13aea0c0d88'), 'Model': '730i', 'Year': 2013, 'Transmission': 'Automatic', 'Fuel': 'Petrol', 'Price': 3600000, 'Mileage': {'Old': 10, 'New': 13}, 'Status': 'Sold'}\n",
      "{'_id': ObjectId('683d6244a38bd13aea0c0d89'), 'Model': 'X5', 'Year': 2015, 'Transmission': 'Automatic', 'Fuel': 'Diesel', 'Price': 3400000, 'Mileage': {'Old': 12, 'New': 15}, 'Status': 'Available'}\n",
      "{'_id': ObjectId('683d6244a38bd13aea0c0d8a'), 'Model': '330Li', 'Year': 2022, 'Transmission': 'Automatic', 'Fuel': 'Petrol', 'Price': 4800000, 'Mileage': {'Old': 13, 'New': 16}, 'Status': 'Available'}\n",
      "{'_id': ObjectId('683d6244a38bd13aea0c0d8b'), 'Model': 'M235i', 'Year': 2019, 'Transmission': 'Automatic', 'Fuel': 'Petrol', 'Price': 4000000, 'Mileage': {'Old': 12, 'New': 15}, 'Status': 'Sold'}\n",
      "{'_id': ObjectId('683d6244a38bd13aea0c0d8c'), 'Model': '220d', 'Year': 2018, 'Transmission': 'Manual', 'Fuel': 'Diesel', 'Price': 2400000, 'Mileage': {'Old': 17, 'New': 20}, 'Status': 'Available'}\n"
     ]
    }
   ],
   "source": [
    "var=cols.find()\n",
    "for i in var:\n",
    "    print(i)"
   ]
  },
  {
   "cell_type": "code",
   "execution_count": 71,
   "id": "7bb32eaa",
   "metadata": {},
   "outputs": [
    {
     "name": "stdout",
     "output_type": "stream",
     "text": [
      "{'Mileage': {'Old': 10, 'New': 13}}\n",
      "{'Mileage': {'Old': 9, 'New': 12}}\n",
      "{'Mileage': {'Old': 11, 'New': 14}}\n",
      "{'Mileage': {'Old': 10, 'New': 13}}\n",
      "{'Mileage': {'Old': 9, 'New': 11}}\n",
      "{'Mileage': {'Old': 11, 'New': 14}}\n",
      "{'Mileage': {'Old': 11, 'New': 14}}\n",
      "{'Mileage': {'Old': 10, 'New': 12}}\n",
      "{'Mileage': {'Old': 12, 'New': 14}}\n",
      "{'Mileage': {'Old': 9, 'New': 11}}\n",
      "{'Mileage': {'Old': 10, 'New': 13}}\n",
      "{'Mileage': {'Old': 11, 'New': 14}}\n",
      "{'Mileage': {'Old': 9, 'New': 12}}\n",
      "{'Mileage': {'Old': 11, 'New': 13}}\n",
      "{'Mileage': {'Old': 10, 'New': 13}}\n",
      "{'Mileage': {'Old': 8, 'New': 11}}\n",
      "{'Mileage': {'Old': 9, 'New': 11}}\n",
      "{'Mileage': {'Old': 10, 'New': 13}}\n"
     ]
    }
   ],
   "source": [
    "var=cols.find({\"Mileage.New\":{\"$gt\":10,\"$lt\":15}},{\"_id\":0,\"Mileage\":1})\n",
    "for i in var:\n",
    "    print(i)"
   ]
  },
  {
   "cell_type": "code",
   "execution_count": null,
   "id": "5b214788",
   "metadata": {},
   "outputs": [],
   "source": [
    "var=cols.aggregate([{\"$group\":{\"_id\":\"$Model\",\"Average\":{\"$avg\":\"$Price\"}}},{\"$sort\":{\"Average\":1}},{\"$limit\":3}])\n",
    "for i in var:\n",
    "    print(i)"
   ]
  },
  {
   "cell_type": "code",
   "execution_count": null,
   "id": "0cc78688",
   "metadata": {},
   "outputs": [],
   "source": [
    "var=cols.aggregate({\"$group\":{\"_id\":\"$Model\",\"Average\":{\"$avg\":\"$Price\"}}},{\"$sort\":{\"Average\":1}},{\"$limit\":2})"
   ]
  }
 ],
 "metadata": {
  "kernelspec": {
   "display_name": ".venv",
   "language": "python",
   "name": "python3"
  },
  "language_info": {
   "codemirror_mode": {
    "name": "ipython",
    "version": 3
   },
   "file_extension": ".py",
   "mimetype": "text/x-python",
   "name": "python",
   "nbconvert_exporter": "python",
   "pygments_lexer": "ipython3",
   "version": "3.12.6"
  }
 },
 "nbformat": 4,
 "nbformat_minor": 5
}
